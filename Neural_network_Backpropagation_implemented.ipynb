{
  "cells": [
    {
      "cell_type": "code",
      "execution_count": 1,
      "metadata": {
        "id": "iqnkJCMKFx8u"
      },
      "outputs": [],
      "source": [
        "import numpy as np\n",
        "import matplotlib.pyplot as plt\n",
        "import math\n",
        "%matplotlib inline\n",
        "from graphviz import Digraph\n",
        "import torch\n",
        "import random \n"
      ]
    },
    {
      "cell_type": "markdown",
      "metadata": {
        "id": "Z1Mlrlv-EDvo"
      },
      "source": [
        "### Class representation"
      ]
    },
    {
      "cell_type": "code",
      "execution_count": 32,
      "metadata": {
        "id": "vboi_gqwPMb0"
      },
      "outputs": [],
      "source": [
        "class Value:\n",
        "  def __init__(self, data, _children=(), _op='', label=''):\n",
        "    self.data = data\n",
        "    self.grad = 0.0\n",
        "    self._backward = lambda: None\n",
        "    self._prev = set(_children)\n",
        "    self._op = _op\n",
        "    self.label = label\n",
        "\n",
        "  def __repr__(self):\n",
        "    return f\"value(data = {self.data})\"\n",
        "\n",
        "  def __add__(self, other):\n",
        "    # a + 1 will become a + Value(1)\n",
        "    other = other if isinstance(other, Value) else Value(other)\n",
        "    out = Value(self.data + other.data, (self, other), '+')\n",
        "\n",
        "    #addition backpropagation \n",
        "    def _backward():\n",
        "      # += is for variables that are repeating into different nodes e.g c = b*a and d = a + b\n",
        "      self.grad += 1.0 * out.grad\n",
        "      other.grad += 1.0 * out.grad\n",
        "\n",
        "    out._backward = _backward\n",
        "    return out\n",
        "\n",
        "  def __neg__(self):\n",
        "    return self * -1\n",
        "\n",
        "  def __sub__(self, other):\n",
        "    return self + (-other)\n",
        "\n",
        "\n",
        "  def __mul__(self, other):\n",
        "    other = other if isinstance(other, Value) else Value(other)\n",
        "    out = Value(self.data * other.data, (self, other), '*')\n",
        "\n",
        "    def _backward():\n",
        "      self.grad += other.data * out.grad\n",
        "      other.grad += self.data * out.grad\n",
        "\n",
        "    out._backward = _backward\n",
        "    return out\n",
        "\n",
        "  def __rmul__(self, other):\n",
        "    #other * self (reverse multiplication for cases like 2 * a)\n",
        "    return (self * other)\n",
        "  \n",
        "  def __pow__(self, other):\n",
        "    #supporting only int/float powers\n",
        "    assert isinstance(other, (int,float))\n",
        "    out = Value(self.data**other, (self, ), f'**{other}')\n",
        "\n",
        "    def _backward():\n",
        "      self.grad = other * (self.data ** (other - 1)) * out.grad\n",
        "\n",
        "    out._backward = _backward\n",
        "    return out\n",
        "\n",
        "  def __truediv__(self, other):\n",
        "    return self * (other**-1)\n",
        "    \n",
        "  def tanh(self):\n",
        "    x = self.data\n",
        "    t = (math.exp(2*x) - 1)/(math.exp(2*x) + 1)\n",
        "    out = Value(t, (self, ), 'tanh')\n",
        "\n",
        "    #the local derivative of tanh * grad\n",
        "    def _backward():\n",
        "        self.grad += (1 - t**2) * out.grad\n",
        "\n",
        "    out._backward = _backward\n",
        "\n",
        "    return out\n",
        "  \n",
        "  def exp(self):\n",
        "    x = self.data\n",
        "    out = Value(math.exp(x), (self, ), 'exp')\n",
        "\n",
        "    def _backward():\n",
        "        self.grad += out.data * out.grad\n",
        "\n",
        "    out._backward = _backward\n",
        "\n",
        "    return out\n",
        "  \n",
        "  def backward(self):\n",
        "    \"\"\"Builds a topological graph of the nodes (implementation of back propagration\"\"\"\n",
        "    topo = []\n",
        "    visited = set()\n",
        "    def build_topo(v):\n",
        "      if v not in visited:\n",
        "        visited.add(v)\n",
        "        for child in v._prev:\n",
        "          build_topo(child)\n",
        "        topo.append(v)\n",
        "\n",
        "    build_topo(self)\n",
        "\n",
        "    self.grad = 1.0\n",
        "    for node in reversed(topo):\n",
        "      node._backward()\n"
      ]
    },
    {
      "cell_type": "markdown",
      "metadata": {
        "id": "ra4iZ2eUTl0x"
      },
      "source": [
        "### Visualization function\n"
      ]
    },
    {
      "cell_type": "code",
      "execution_count": 3,
      "metadata": {
        "id": "yg7kgZ0emMNz"
      },
      "outputs": [],
      "source": [
        "def trace(root):\n",
        "    nodes, edges = set(), set()\n",
        "    def build(v):\n",
        "        if v not in nodes:\n",
        "            nodes.add(v)\n",
        "            for child in v._prev:\n",
        "                edges.add((child, v))\n",
        "                build(child)\n",
        "    build(root)\n",
        "    return nodes, edges\n",
        "\n",
        "def draw_dot(root):\n",
        "    \"\"\"\n",
        "    format: png | svg | ...\n",
        "    rankdir: TB (top to bottom graph) | LR (left to right)\n",
        "    \"\"\"\n",
        "    #assert rankdir in ['LR', 'TB']\n",
        "    nodes, edges = trace(root)\n",
        "    dot = Digraph(format='svg', graph_attr={'rankdir': 'LR'}) #, node_attr={'rankdir': 'TB'})\n",
        "    \n",
        "    for n in nodes:\n",
        "        dot.node(name=str(id(n)), label = \"{%s | data %.4f | grad %.4f}\" % (n.label, n.data, n.grad), shape='record')\n",
        "        if n._op:\n",
        "            dot.node(name=str(id(n)) + n._op, label=n._op)\n",
        "            dot.edge(str(id(n)) + n._op, str(id(n)))\n",
        "    \n",
        "    for n1, n2 in edges:\n",
        "        dot.edge(str(id(n1)), str(id(n2)) + n2._op)\n",
        "    \n",
        "    return dot"
      ]
    },
    {
      "cell_type": "markdown",
      "metadata": {
        "id": "ghQ9I4eqCWX6"
      },
      "source": [
        "## Manual backpropagation\n",
        "\n",
        "recursive application of chain rule"
      ]
    },
    {
      "cell_type": "code",
      "execution_count": null,
      "metadata": {
        "id": "6IAo0bX9mAKt"
      },
      "outputs": [],
      "source": [
        "a = Value(2.0, label=\"a\")\n",
        "b = Value(-3.0, label=\"b\")\n",
        "c = Value(10.0, label=\"c\")\n",
        "e = a*b; e.label=\"e\"\n",
        "d = e + c; d.label=\"d\"\n",
        "f = Value(-2.0); f.label=\"f\"\n",
        "L = d * f; L.label=\"L\"\n",
        "L"
      ]
    },
    {
      "cell_type": "code",
      "execution_count": null,
      "metadata": {
        "colab": {
          "base_uri": "https://localhost:8080/"
        },
        "id": "ErzdgyIvQDmB",
        "outputId": "3adc1c51-4e30-4002-84f0-195b6f12f9c4"
      },
      "outputs": [
        {
          "data": {
            "text/plain": [
              "{value(data = -6.0), value(data = 10.0)}"
            ]
          },
          "execution_count": 47,
          "metadata": {},
          "output_type": "execute_result"
        }
      ],
      "source": [
        "#prints out the value of a*b and c\n",
        "d._prev"
      ]
    },
    {
      "cell_type": "code",
      "execution_count": null,
      "metadata": {
        "colab": {
          "base_uri": "https://localhost:8080/",
          "height": 36
        },
        "id": "Lj7tTgG3QT1j",
        "outputId": "534e08b7-b1e9-4102-dd1c-f67c02751235"
      },
      "outputs": [
        {
          "data": {
            "application/vnd.google.colaboratory.intrinsic+json": {
              "type": "string"
            },
            "text/plain": [
              "'+'"
            ]
          },
          "execution_count": 48,
          "metadata": {},
          "output_type": "execute_result"
        }
      ],
      "source": [
        "#what produced d \n",
        "d._op"
      ]
    },
    {
      "cell_type": "code",
      "execution_count": null,
      "metadata": {
        "colab": {
          "base_uri": "https://localhost:8080/",
          "height": 212
        },
        "id": "oolXSWOqg-eW",
        "outputId": "5ba12e06-158f-4b07-f09c-ee0d47a8a47d"
      },
      "outputs": [
        {
          "data": {
            "image/svg+xml": "<?xml version=\"1.0\" encoding=\"UTF-8\" standalone=\"no\"?>\n<!DOCTYPE svg PUBLIC \"-//W3C//DTD SVG 1.1//EN\"\n \"http://www.w3.org/Graphics/SVG/1.1/DTD/svg11.dtd\">\n<!-- Generated by graphviz version 2.40.1 (20161225.0304)\n -->\n<!-- Title: %3 Pages: 1 -->\n<svg width=\"1187pt\" height=\"128pt\"\n viewBox=\"0.00 0.00 1187.00 128.00\" xmlns=\"http://www.w3.org/2000/svg\" xmlns:xlink=\"http://www.w3.org/1999/xlink\">\n<g id=\"graph0\" class=\"graph\" transform=\"scale(1 1) rotate(0) translate(4 124)\">\n<title>%3</title>\n<polygon fill=\"#ffffff\" stroke=\"transparent\" points=\"-4,4 -4,-124 1183,-124 1183,4 -4,4\"/>\n<!-- 140318326380560 -->\n<g id=\"node1\" class=\"node\">\n<title>140318326380560</title>\n<polygon fill=\"none\" stroke=\"#000000\" points=\"326,-83.5 326,-119.5 528,-119.5 528,-83.5 326,-83.5\"/>\n<text text-anchor=\"middle\" x=\"337.5\" y=\"-97.8\" font-family=\"Times,serif\" font-size=\"14.00\" fill=\"#000000\">c</text>\n<polyline fill=\"none\" stroke=\"#000000\" points=\"349,-83.5 349,-119.5 \"/>\n<text text-anchor=\"middle\" x=\"395\" y=\"-97.8\" font-family=\"Times,serif\" font-size=\"14.00\" fill=\"#000000\">data 10.0000</text>\n<polyline fill=\"none\" stroke=\"#000000\" points=\"441,-83.5 441,-119.5 \"/>\n<text text-anchor=\"middle\" x=\"484.5\" y=\"-97.8\" font-family=\"Times,serif\" font-size=\"14.00\" fill=\"#000000\">grad 0.0000</text>\n</g>\n<!-- 140318326382224+ -->\n<g id=\"node5\" class=\"node\">\n<title>140318326382224+</title>\n<ellipse fill=\"none\" stroke=\"#000000\" cx=\"591\" cy=\"-73.5\" rx=\"27\" ry=\"18\"/>\n<text text-anchor=\"middle\" x=\"591\" y=\"-69.8\" font-family=\"Times,serif\" font-size=\"14.00\" fill=\"#000000\">+</text>\n</g>\n<!-- 140318326380560&#45;&gt;140318326382224+ -->\n<g id=\"edge7\" class=\"edge\">\n<title>140318326380560&#45;&gt;140318326382224+</title>\n<path fill=\"none\" stroke=\"#000000\" d=\"M528.0623,-84.2455C537.5172,-82.6312 546.6142,-81.0781 554.8116,-79.6785\"/>\n<polygon fill=\"#000000\" stroke=\"#000000\" points=\"555.405,-83.1279 564.6733,-77.9948 554.2269,-76.2278 555.405,-83.1279\"/>\n</g>\n<!-- 140318326381584 -->\n<g id=\"node2\" class=\"node\">\n<title>140318326381584</title>\n<polygon fill=\"none\" stroke=\"#000000\" points=\"2.5,-56.5 2.5,-92.5 197.5,-92.5 197.5,-56.5 2.5,-56.5\"/>\n<text text-anchor=\"middle\" x=\"14\" y=\"-70.8\" font-family=\"Times,serif\" font-size=\"14.00\" fill=\"#000000\">a</text>\n<polyline fill=\"none\" stroke=\"#000000\" points=\"25.5,-56.5 25.5,-92.5 \"/>\n<text text-anchor=\"middle\" x=\"68\" y=\"-70.8\" font-family=\"Times,serif\" font-size=\"14.00\" fill=\"#000000\">data 2.0000</text>\n<polyline fill=\"none\" stroke=\"#000000\" points=\"110.5,-56.5 110.5,-92.5 \"/>\n<text text-anchor=\"middle\" x=\"154\" y=\"-70.8\" font-family=\"Times,serif\" font-size=\"14.00\" fill=\"#000000\">grad 0.0000</text>\n</g>\n<!-- 140318326381264* -->\n<g id=\"node8\" class=\"node\">\n<title>140318326381264*</title>\n<ellipse fill=\"none\" stroke=\"#000000\" cx=\"263\" cy=\"-46.5\" rx=\"27\" ry=\"18\"/>\n<text text-anchor=\"middle\" x=\"263\" y=\"-42.8\" font-family=\"Times,serif\" font-size=\"14.00\" fill=\"#000000\">*</text>\n</g>\n<!-- 140318326381584&#45;&gt;140318326381264* -->\n<g id=\"edge6\" class=\"edge\">\n<title>140318326381584&#45;&gt;140318326381264*</title>\n<path fill=\"none\" stroke=\"#000000\" d=\"M197.6409,-57.7273C207.9722,-55.9526 217.943,-54.2399 226.8529,-52.7093\"/>\n<polygon fill=\"#000000\" stroke=\"#000000\" points=\"227.5199,-56.1461 236.783,-51.0035 226.3347,-49.2471 227.5199,-56.1461\"/>\n</g>\n<!-- 140318326381072 -->\n<g id=\"node3\" class=\"node\">\n<title>140318326381072</title>\n<polygon fill=\"none\" stroke=\"#000000\" points=\"654,-.5 654,-36.5 851,-36.5 851,-.5 654,-.5\"/>\n<text text-anchor=\"middle\" x=\"664.5\" y=\"-14.8\" font-family=\"Times,serif\" font-size=\"14.00\" fill=\"#000000\">f</text>\n<polyline fill=\"none\" stroke=\"#000000\" points=\"675,-.5 675,-36.5 \"/>\n<text text-anchor=\"middle\" x=\"719.5\" y=\"-14.8\" font-family=\"Times,serif\" font-size=\"14.00\" fill=\"#000000\">data &#45;2.0000</text>\n<polyline fill=\"none\" stroke=\"#000000\" points=\"764,-.5 764,-36.5 \"/>\n<text text-anchor=\"middle\" x=\"807.5\" y=\"-14.8\" font-family=\"Times,serif\" font-size=\"14.00\" fill=\"#000000\">grad 0.0000</text>\n</g>\n<!-- 140318326380432* -->\n<g id=\"node10\" class=\"node\">\n<title>140318326380432*</title>\n<ellipse fill=\"none\" stroke=\"#000000\" cx=\"914\" cy=\"-45.5\" rx=\"27\" ry=\"18\"/>\n<text text-anchor=\"middle\" x=\"914\" y=\"-41.8\" font-family=\"Times,serif\" font-size=\"14.00\" fill=\"#000000\">*</text>\n</g>\n<!-- 140318326381072&#45;&gt;140318326380432* -->\n<g id=\"edge5\" class=\"edge\">\n<title>140318326381072&#45;&gt;140318326380432*</title>\n<path fill=\"none\" stroke=\"#000000\" d=\"M851.0974,-34.9838C860.4127,-36.5411 869.3943,-38.0427 877.5123,-39.3999\"/>\n<polygon fill=\"#000000\" stroke=\"#000000\" points=\"877.2018,-42.8965 887.6421,-41.0934 878.3562,-35.9923 877.2018,-42.8965\"/>\n</g>\n<!-- 140318326382224 -->\n<g id=\"node4\" class=\"node\">\n<title>140318326382224</title>\n<polygon fill=\"none\" stroke=\"#000000\" points=\"654.5,-55.5 654.5,-91.5 850.5,-91.5 850.5,-55.5 654.5,-55.5\"/>\n<text text-anchor=\"middle\" x=\"666.5\" y=\"-69.8\" font-family=\"Times,serif\" font-size=\"14.00\" fill=\"#000000\">d</text>\n<polyline fill=\"none\" stroke=\"#000000\" points=\"678.5,-55.5 678.5,-91.5 \"/>\n<text text-anchor=\"middle\" x=\"721\" y=\"-69.8\" font-family=\"Times,serif\" font-size=\"14.00\" fill=\"#000000\">data 4.0000</text>\n<polyline fill=\"none\" stroke=\"#000000\" points=\"763.5,-55.5 763.5,-91.5 \"/>\n<text text-anchor=\"middle\" x=\"807\" y=\"-69.8\" font-family=\"Times,serif\" font-size=\"14.00\" fill=\"#000000\">grad 0.0000</text>\n</g>\n<!-- 140318326382224&#45;&gt;140318326380432* -->\n<g id=\"edge9\" class=\"edge\">\n<title>140318326382224&#45;&gt;140318326380432*</title>\n<path fill=\"none\" stroke=\"#000000\" d=\"M850.6344,-56.486C860.2015,-54.8273 869.4268,-53.2279 877.738,-51.7869\"/>\n<polygon fill=\"#000000\" stroke=\"#000000\" points=\"878.4785,-55.2108 887.7336,-50.0539 877.2827,-48.3137 878.4785,-55.2108\"/>\n</g>\n<!-- 140318326382224+&#45;&gt;140318326382224 -->\n<g id=\"edge1\" class=\"edge\">\n<title>140318326382224+&#45;&gt;140318326382224</title>\n<path fill=\"none\" stroke=\"#000000\" d=\"M618.0315,-73.5C625.7623,-73.5 634.6953,-73.5 644.2076,-73.5\"/>\n<polygon fill=\"#000000\" stroke=\"#000000\" points=\"644.3041,-77.0001 654.304,-73.5 644.304,-70.0001 644.3041,-77.0001\"/>\n</g>\n<!-- 140318326381712 -->\n<g id=\"node6\" class=\"node\">\n<title>140318326381712</title>\n<polygon fill=\"none\" stroke=\"#000000\" points=\"0,-1.5 0,-37.5 200,-37.5 200,-1.5 0,-1.5\"/>\n<text text-anchor=\"middle\" x=\"12\" y=\"-15.8\" font-family=\"Times,serif\" font-size=\"14.00\" fill=\"#000000\">b</text>\n<polyline fill=\"none\" stroke=\"#000000\" points=\"24,-1.5 24,-37.5 \"/>\n<text text-anchor=\"middle\" x=\"68.5\" y=\"-15.8\" font-family=\"Times,serif\" font-size=\"14.00\" fill=\"#000000\">data &#45;3.0000</text>\n<polyline fill=\"none\" stroke=\"#000000\" points=\"113,-1.5 113,-37.5 \"/>\n<text text-anchor=\"middle\" x=\"156.5\" y=\"-15.8\" font-family=\"Times,serif\" font-size=\"14.00\" fill=\"#000000\">grad 0.0000</text>\n</g>\n<!-- 140318326381712&#45;&gt;140318326381264* -->\n<g id=\"edge4\" class=\"edge\">\n<title>140318326381712&#45;&gt;140318326381264*</title>\n<path fill=\"none\" stroke=\"#000000\" d=\"M200.4461,-36.1383C209.6478,-37.6625 218.5084,-39.1302 226.5226,-40.4577\"/>\n<polygon fill=\"#000000\" stroke=\"#000000\" points=\"226.0904,-43.9338 236.528,-42.1151 227.2344,-37.0279 226.0904,-43.9338\"/>\n</g>\n<!-- 140318326381264 -->\n<g id=\"node7\" class=\"node\">\n<title>140318326381264</title>\n<polygon fill=\"none\" stroke=\"#000000\" points=\"327.5,-28.5 327.5,-64.5 526.5,-64.5 526.5,-28.5 327.5,-28.5\"/>\n<text text-anchor=\"middle\" x=\"339\" y=\"-42.8\" font-family=\"Times,serif\" font-size=\"14.00\" fill=\"#000000\">e</text>\n<polyline fill=\"none\" stroke=\"#000000\" points=\"350.5,-28.5 350.5,-64.5 \"/>\n<text text-anchor=\"middle\" x=\"395\" y=\"-42.8\" font-family=\"Times,serif\" font-size=\"14.00\" fill=\"#000000\">data &#45;6.0000</text>\n<polyline fill=\"none\" stroke=\"#000000\" points=\"439.5,-28.5 439.5,-64.5 \"/>\n<text text-anchor=\"middle\" x=\"483\" y=\"-42.8\" font-family=\"Times,serif\" font-size=\"14.00\" fill=\"#000000\">grad 0.0000</text>\n</g>\n<!-- 140318326381264&#45;&gt;140318326382224+ -->\n<g id=\"edge8\" class=\"edge\">\n<title>140318326381264&#45;&gt;140318326382224+</title>\n<path fill=\"none\" stroke=\"#000000\" d=\"M526.6536,-62.9064C536.572,-64.5393 546.1287,-66.1127 554.7053,-67.5247\"/>\n<polygon fill=\"#000000\" stroke=\"#000000\" points=\"554.2034,-70.9891 564.6392,-69.1601 555.3406,-64.082 554.2034,-70.9891\"/>\n</g>\n<!-- 140318326381264*&#45;&gt;140318326381264 -->\n<g id=\"edge2\" class=\"edge\">\n<title>140318326381264*&#45;&gt;140318326381264</title>\n<path fill=\"none\" stroke=\"#000000\" d=\"M290.0813,-46.5C298.0646,-46.5 307.3332,-46.5 317.212,-46.5\"/>\n<polygon fill=\"#000000\" stroke=\"#000000\" points=\"317.2693,-50.0001 327.2693,-46.5 317.2692,-43.0001 317.2693,-50.0001\"/>\n</g>\n<!-- 140318326380432 -->\n<g id=\"node9\" class=\"node\">\n<title>140318326380432</title>\n<polygon fill=\"none\" stroke=\"#000000\" points=\"977,-27.5 977,-63.5 1179,-63.5 1179,-27.5 977,-27.5\"/>\n<text text-anchor=\"middle\" x=\"990\" y=\"-41.8\" font-family=\"Times,serif\" font-size=\"14.00\" fill=\"#000000\">L</text>\n<polyline fill=\"none\" stroke=\"#000000\" points=\"1003,-27.5 1003,-63.5 \"/>\n<text text-anchor=\"middle\" x=\"1047.5\" y=\"-41.8\" font-family=\"Times,serif\" font-size=\"14.00\" fill=\"#000000\">data &#45;8.0000</text>\n<polyline fill=\"none\" stroke=\"#000000\" points=\"1092,-27.5 1092,-63.5 \"/>\n<text text-anchor=\"middle\" x=\"1135.5\" y=\"-41.8\" font-family=\"Times,serif\" font-size=\"14.00\" fill=\"#000000\">grad 0.0000</text>\n</g>\n<!-- 140318326380432*&#45;&gt;140318326380432 -->\n<g id=\"edge3\" class=\"edge\">\n<title>140318326380432*&#45;&gt;140318326380432</title>\n<path fill=\"none\" stroke=\"#000000\" d=\"M941.0813,-45.5C948.631,-45.5 957.3302,-45.5 966.608,-45.5\"/>\n<polygon fill=\"#000000\" stroke=\"#000000\" points=\"966.8754,-49.0001 976.8754,-45.5 966.8754,-42.0001 966.8754,-49.0001\"/>\n</g>\n</g>\n</svg>\n",
            "text/plain": [
              "<graphviz.dot.Digraph at 0x7f9e688d2650>"
            ]
          },
          "execution_count": 62,
          "metadata": {},
          "output_type": "execute_result"
        }
      ],
      "source": [
        "draw_dot(L)"
      ]
    },
    {
      "cell_type": "markdown",
      "metadata": {
        "id": "MxLUD5XJovh3"
      },
      "source": [
        "GRADIENT CHECK: deriving the backpropagetion and getting the derivative \n",
        "NUUMERICAL GRADIENT estimating the derivative using small step size\n",
        "\n",
        "for backward,\n",
        "we calculate the derivative of each node with respect to L\n",
        "\n",
        "In Neural nets, the derivative of the weights of a neural net wrt the loss function i.e to fnd how the weights are impacting the loss function"
      ]
    },
    {
      "cell_type": "code",
      "execution_count": null,
      "metadata": {
        "id": "_xyki-8RuAx3"
      },
      "outputs": [],
      "source": [
        "L.grad = 1.0\n",
        "# dL/df = d\n",
        "f.grad = 4.0\n",
        "# dL/dd = f\n",
        "d.grad = -2.0"
      ]
    },
    {
      "cell_type": "code",
      "execution_count": null,
      "metadata": {
        "id": "3YCsiRxUzW8a"
      },
      "outputs": [],
      "source": [
        "\"\"\"dd/dc  d = c + e = e = 1.0\n",
        "dl/dc using chain rule dd/dc * dl*dd\n",
        "1.0 * -2.0 = -2.0\n",
        "\"\"\"\n",
        "c.grad = -2.0\n",
        "\"\"\"\n",
        "dd/de  d = c + e = c = 1.0\n",
        "dl/de using chain rule  dd/de * dl*dd\n",
        "1.0 * -2.0 = -2.0\n",
        "\"\"\"\n",
        "e.grad = -2.0"
      ]
    },
    {
      "cell_type": "code",
      "execution_count": null,
      "metadata": {
        "id": "Cx8JpcqU1SDG"
      },
      "outputs": [],
      "source": [
        "\"\"\"de/da  (e = a + b) = b = -3.0\n",
        "dl/da using chain rule de/da * dl*de\n",
        "-3.0 * -2.0 = 6.0\n",
        "\"\"\"\n",
        "a.grad = 6.0\n",
        "\"\"\"\n",
        "de/db  (e = a + b) = a = 2.0\n",
        "dl/de using chain rule  de/db * dl*de\n",
        "2.0 * -2.0 = -4.0\n",
        "\"\"\"\n",
        "b.grad = -4.0"
      ]
    },
    {
      "cell_type": "code",
      "execution_count": null,
      "metadata": {
        "colab": {
          "base_uri": "https://localhost:8080/"
        },
        "id": "TzqgAP2RhA9a",
        "outputId": "36a6dd4e-d511-4e54-aa01-65ddd450dfd1"
      },
      "outputs": [
        {
          "name": "stdout",
          "output_type": "stream",
          "text": [
            "-2.000000000000668\n"
          ]
        }
      ],
      "source": [
        "def test_fnc():\n",
        "  h = 0.001\n",
        "\n",
        "  a = Value(2.0, label=\"a\")\n",
        "  b = Value(-3.0, label=\"b\")\n",
        "  c = Value(10.0, label=\"c\")\n",
        "  e = a*b; e.label=\"e\"\n",
        "  d = e + c; d.label=\"d\"\n",
        "  f = Value(-2.0); f.label=\"f\"\n",
        "  L = d * f; L.label=\"L\"\n",
        "  L1 = L.data\n",
        "\n",
        "\n",
        "  a = Value(2.0, label=\"a\")\n",
        "  b = Value(-3.0, label=\"b\")\n",
        "  c = Value(10.0, label=\"c\")\n",
        "  e = a*b; e.label=\"e\"\n",
        "  d = e + c; d.label=\"d\"\n",
        "  d.data += h\n",
        "  f = Value(-2.0); f.label=\"f\"\n",
        "  L = d * f; L.label=\"L\"\n",
        "  L2 = L.data\n",
        "\n",
        "  print((L2 - L1)/h) #prints the derivate of l wrt a\n",
        "\n",
        "test_fnc()"
      ]
    },
    {
      "cell_type": "code",
      "execution_count": null,
      "metadata": {
        "colab": {
          "base_uri": "https://localhost:8080/",
          "height": 212
        },
        "id": "cy_riEST4ROu",
        "outputId": "d48361d5-0449-4edd-f167-31ed2ed2e59c"
      },
      "outputs": [
        {
          "data": {
            "image/svg+xml": "<?xml version=\"1.0\" encoding=\"UTF-8\" standalone=\"no\"?>\n<!DOCTYPE svg PUBLIC \"-//W3C//DTD SVG 1.1//EN\"\n \"http://www.w3.org/Graphics/SVG/1.1/DTD/svg11.dtd\">\n<!-- Generated by graphviz version 2.40.1 (20161225.0304)\n -->\n<!-- Title: %3 Pages: 1 -->\n<svg width=\"1201pt\" height=\"128pt\"\n viewBox=\"0.00 0.00 1201.00 128.00\" xmlns=\"http://www.w3.org/2000/svg\" xmlns:xlink=\"http://www.w3.org/1999/xlink\">\n<g id=\"graph0\" class=\"graph\" transform=\"scale(1 1) rotate(0) translate(4 124)\">\n<title>%3</title>\n<polygon fill=\"#ffffff\" stroke=\"transparent\" points=\"-4,4 -4,-124 1197,-124 1197,4 -4,4\"/>\n<!-- 140318326380560 -->\n<g id=\"node1\" class=\"node\">\n<title>140318326380560</title>\n<polygon fill=\"none\" stroke=\"#000000\" points=\"331,-83.5 331,-119.5 538,-119.5 538,-83.5 331,-83.5\"/>\n<text text-anchor=\"middle\" x=\"342.5\" y=\"-97.8\" font-family=\"Times,serif\" font-size=\"14.00\" fill=\"#000000\">c</text>\n<polyline fill=\"none\" stroke=\"#000000\" points=\"354,-83.5 354,-119.5 \"/>\n<text text-anchor=\"middle\" x=\"400\" y=\"-97.8\" font-family=\"Times,serif\" font-size=\"14.00\" fill=\"#000000\">data 10.0000</text>\n<polyline fill=\"none\" stroke=\"#000000\" points=\"446,-83.5 446,-119.5 \"/>\n<text text-anchor=\"middle\" x=\"492\" y=\"-97.8\" font-family=\"Times,serif\" font-size=\"14.00\" fill=\"#000000\">grad &#45;2.0000</text>\n</g>\n<!-- 140318326382224+ -->\n<g id=\"node5\" class=\"node\">\n<title>140318326382224+</title>\n<ellipse fill=\"none\" stroke=\"#000000\" cx=\"601\" cy=\"-73.5\" rx=\"27\" ry=\"18\"/>\n<text text-anchor=\"middle\" x=\"601\" y=\"-69.8\" font-family=\"Times,serif\" font-size=\"14.00\" fill=\"#000000\">+</text>\n</g>\n<!-- 140318326380560&#45;&gt;140318326382224+ -->\n<g id=\"edge7\" class=\"edge\">\n<title>140318326380560&#45;&gt;140318326382224+</title>\n<path fill=\"none\" stroke=\"#000000\" d=\"M538.0535,-84.0856C547.5392,-82.4904 556.6504,-80.9582 564.8524,-79.5789\"/>\n<polygon fill=\"#000000\" stroke=\"#000000\" points=\"565.4341,-83.0303 574.7152,-77.9203 564.2732,-76.1272 565.4341,-83.0303\"/>\n</g>\n<!-- 140318326381584 -->\n<g id=\"node2\" class=\"node\">\n<title>140318326381584</title>\n<polygon fill=\"none\" stroke=\"#000000\" points=\"5,-56.5 5,-92.5 200,-92.5 200,-56.5 5,-56.5\"/>\n<text text-anchor=\"middle\" x=\"16.5\" y=\"-70.8\" font-family=\"Times,serif\" font-size=\"14.00\" fill=\"#000000\">a</text>\n<polyline fill=\"none\" stroke=\"#000000\" points=\"28,-56.5 28,-92.5 \"/>\n<text text-anchor=\"middle\" x=\"70.5\" y=\"-70.8\" font-family=\"Times,serif\" font-size=\"14.00\" fill=\"#000000\">data 2.0000</text>\n<polyline fill=\"none\" stroke=\"#000000\" points=\"113,-56.5 113,-92.5 \"/>\n<text text-anchor=\"middle\" x=\"156.5\" y=\"-70.8\" font-family=\"Times,serif\" font-size=\"14.00\" fill=\"#000000\">grad 6.0000</text>\n</g>\n<!-- 140318326381264* -->\n<g id=\"node8\" class=\"node\">\n<title>140318326381264*</title>\n<ellipse fill=\"none\" stroke=\"#000000\" cx=\"268\" cy=\"-46.5\" rx=\"27\" ry=\"18\"/>\n<text text-anchor=\"middle\" x=\"268\" y=\"-42.8\" font-family=\"Times,serif\" font-size=\"14.00\" fill=\"#000000\">*</text>\n</g>\n<!-- 140318326381584&#45;&gt;140318326381264* -->\n<g id=\"edge6\" class=\"edge\">\n<title>140318326381584&#45;&gt;140318326381264*</title>\n<path fill=\"none\" stroke=\"#000000\" d=\"M200.2073,-57.9695C211.4112,-56.0739 222.2367,-54.2424 231.825,-52.6202\"/>\n<polygon fill=\"#000000\" stroke=\"#000000\" points=\"232.4272,-56.0682 241.7032,-50.949 231.2594,-49.1663 232.4272,-56.0682\"/>\n</g>\n<!-- 140318326381072 -->\n<g id=\"node3\" class=\"node\">\n<title>140318326381072</title>\n<polygon fill=\"none\" stroke=\"#000000\" points=\"666,-.5 666,-36.5 863,-36.5 863,-.5 666,-.5\"/>\n<text text-anchor=\"middle\" x=\"676.5\" y=\"-14.8\" font-family=\"Times,serif\" font-size=\"14.00\" fill=\"#000000\">f</text>\n<polyline fill=\"none\" stroke=\"#000000\" points=\"687,-.5 687,-36.5 \"/>\n<text text-anchor=\"middle\" x=\"731.5\" y=\"-14.8\" font-family=\"Times,serif\" font-size=\"14.00\" fill=\"#000000\">data &#45;2.0000</text>\n<polyline fill=\"none\" stroke=\"#000000\" points=\"776,-.5 776,-36.5 \"/>\n<text text-anchor=\"middle\" x=\"819.5\" y=\"-14.8\" font-family=\"Times,serif\" font-size=\"14.00\" fill=\"#000000\">grad 4.0000</text>\n</g>\n<!-- 140318326380432* -->\n<g id=\"node10\" class=\"node\">\n<title>140318326380432*</title>\n<ellipse fill=\"none\" stroke=\"#000000\" cx=\"928\" cy=\"-45.5\" rx=\"27\" ry=\"18\"/>\n<text text-anchor=\"middle\" x=\"928\" y=\"-41.8\" font-family=\"Times,serif\" font-size=\"14.00\" fill=\"#000000\">*</text>\n</g>\n<!-- 140318326381072&#45;&gt;140318326380432* -->\n<g id=\"edge5\" class=\"edge\">\n<title>140318326381072&#45;&gt;140318326380432*</title>\n<path fill=\"none\" stroke=\"#000000\" d=\"M863.3805,-34.8289C873.3252,-36.4711 882.9157,-38.0549 891.5272,-39.477\"/>\n<polygon fill=\"#000000\" stroke=\"#000000\" points=\"891.067,-42.9483 901.5037,-41.1245 892.2076,-36.0418 891.067,-42.9483\"/>\n</g>\n<!-- 140318326382224 -->\n<g id=\"node4\" class=\"node\">\n<title>140318326382224</title>\n<polygon fill=\"none\" stroke=\"#000000\" points=\"664,-55.5 664,-91.5 865,-91.5 865,-55.5 664,-55.5\"/>\n<text text-anchor=\"middle\" x=\"676\" y=\"-69.8\" font-family=\"Times,serif\" font-size=\"14.00\" fill=\"#000000\">d</text>\n<polyline fill=\"none\" stroke=\"#000000\" points=\"688,-55.5 688,-91.5 \"/>\n<text text-anchor=\"middle\" x=\"730.5\" y=\"-69.8\" font-family=\"Times,serif\" font-size=\"14.00\" fill=\"#000000\">data 4.0000</text>\n<polyline fill=\"none\" stroke=\"#000000\" points=\"773,-55.5 773,-91.5 \"/>\n<text text-anchor=\"middle\" x=\"819\" y=\"-69.8\" font-family=\"Times,serif\" font-size=\"14.00\" fill=\"#000000\">grad &#45;2.0000</text>\n</g>\n<!-- 140318326382224&#45;&gt;140318326380432* -->\n<g id=\"edge9\" class=\"edge\">\n<title>140318326382224&#45;&gt;140318326380432*</title>\n<path fill=\"none\" stroke=\"#000000\" d=\"M865.2542,-56.2455C874.5755,-54.6491 883.5479,-53.1126 891.6492,-51.7252\"/>\n<polygon fill=\"#000000\" stroke=\"#000000\" points=\"892.4879,-55.1326 901.7536,-49.9948 891.3063,-48.2331 892.4879,-55.1326\"/>\n</g>\n<!-- 140318326382224+&#45;&gt;140318326382224 -->\n<g id=\"edge1\" class=\"edge\">\n<title>140318326382224+&#45;&gt;140318326382224</title>\n<path fill=\"none\" stroke=\"#000000\" d=\"M628.3662,-73.5C635.8433,-73.5 644.4313,-73.5 653.5802,-73.5\"/>\n<polygon fill=\"#000000\" stroke=\"#000000\" points=\"653.702,-77.0001 663.702,-73.5 653.7019,-70.0001 653.702,-77.0001\"/>\n</g>\n<!-- 140318326381712 -->\n<g id=\"node6\" class=\"node\">\n<title>140318326381712</title>\n<polygon fill=\"none\" stroke=\"#000000\" points=\"0,-1.5 0,-37.5 205,-37.5 205,-1.5 0,-1.5\"/>\n<text text-anchor=\"middle\" x=\"12\" y=\"-15.8\" font-family=\"Times,serif\" font-size=\"14.00\" fill=\"#000000\">b</text>\n<polyline fill=\"none\" stroke=\"#000000\" points=\"24,-1.5 24,-37.5 \"/>\n<text text-anchor=\"middle\" x=\"68.5\" y=\"-15.8\" font-family=\"Times,serif\" font-size=\"14.00\" fill=\"#000000\">data &#45;3.0000</text>\n<polyline fill=\"none\" stroke=\"#000000\" points=\"113,-1.5 113,-37.5 \"/>\n<text text-anchor=\"middle\" x=\"159\" y=\"-15.8\" font-family=\"Times,serif\" font-size=\"14.00\" fill=\"#000000\">grad &#45;4.0000</text>\n</g>\n<!-- 140318326381712&#45;&gt;140318326381264* -->\n<g id=\"edge4\" class=\"edge\">\n<title>140318326381712&#45;&gt;140318326381264*</title>\n<path fill=\"none\" stroke=\"#000000\" d=\"M205.4315,-36.2925C214.6641,-37.7987 223.5398,-39.2467 231.5595,-40.555\"/>\n<polygon fill=\"#000000\" stroke=\"#000000\" points=\"231.1342,-44.0318 241.5673,-42.1877 232.2613,-37.1232 231.1342,-44.0318\"/>\n</g>\n<!-- 140318326381264 -->\n<g id=\"node7\" class=\"node\">\n<title>140318326381264</title>\n<polygon fill=\"none\" stroke=\"#000000\" points=\"332.5,-28.5 332.5,-64.5 536.5,-64.5 536.5,-28.5 332.5,-28.5\"/>\n<text text-anchor=\"middle\" x=\"344\" y=\"-42.8\" font-family=\"Times,serif\" font-size=\"14.00\" fill=\"#000000\">e</text>\n<polyline fill=\"none\" stroke=\"#000000\" points=\"355.5,-28.5 355.5,-64.5 \"/>\n<text text-anchor=\"middle\" x=\"400\" y=\"-42.8\" font-family=\"Times,serif\" font-size=\"14.00\" fill=\"#000000\">data &#45;6.0000</text>\n<polyline fill=\"none\" stroke=\"#000000\" points=\"444.5,-28.5 444.5,-64.5 \"/>\n<text text-anchor=\"middle\" x=\"490.5\" y=\"-42.8\" font-family=\"Times,serif\" font-size=\"14.00\" fill=\"#000000\">grad &#45;2.0000</text>\n</g>\n<!-- 140318326381264&#45;&gt;140318326382224+ -->\n<g id=\"edge8\" class=\"edge\">\n<title>140318326381264&#45;&gt;140318326382224+</title>\n<path fill=\"none\" stroke=\"#000000\" d=\"M536.6268,-63.0611C546.5808,-64.6753 556.1548,-66.2278 564.738,-67.6197\"/>\n<polygon fill=\"#000000\" stroke=\"#000000\" points=\"564.2437,-71.0852 574.675,-69.2311 565.3642,-64.1754 564.2437,-71.0852\"/>\n</g>\n<!-- 140318326381264*&#45;&gt;140318326381264 -->\n<g id=\"edge2\" class=\"edge\">\n<title>140318326381264*&#45;&gt;140318326381264</title>\n<path fill=\"none\" stroke=\"#000000\" d=\"M295.1217,-46.5C303.0694,-46.5 312.2947,-46.5 322.1416,-46.5\"/>\n<polygon fill=\"#000000\" stroke=\"#000000\" points=\"322.1714,-50.0001 332.1714,-46.5 322.1713,-43.0001 322.1714,-50.0001\"/>\n</g>\n<!-- 140318326380432 -->\n<g id=\"node9\" class=\"node\">\n<title>140318326380432</title>\n<polygon fill=\"none\" stroke=\"#000000\" points=\"991,-27.5 991,-63.5 1193,-63.5 1193,-27.5 991,-27.5\"/>\n<text text-anchor=\"middle\" x=\"1004\" y=\"-41.8\" font-family=\"Times,serif\" font-size=\"14.00\" fill=\"#000000\">L</text>\n<polyline fill=\"none\" stroke=\"#000000\" points=\"1017,-27.5 1017,-63.5 \"/>\n<text text-anchor=\"middle\" x=\"1061.5\" y=\"-41.8\" font-family=\"Times,serif\" font-size=\"14.00\" fill=\"#000000\">data &#45;8.0000</text>\n<polyline fill=\"none\" stroke=\"#000000\" points=\"1106,-27.5 1106,-63.5 \"/>\n<text text-anchor=\"middle\" x=\"1149.5\" y=\"-41.8\" font-family=\"Times,serif\" font-size=\"14.00\" fill=\"#000000\">grad 1.0000</text>\n</g>\n<!-- 140318326380432*&#45;&gt;140318326380432 -->\n<g id=\"edge3\" class=\"edge\">\n<title>140318326380432*&#45;&gt;140318326380432</title>\n<path fill=\"none\" stroke=\"#000000\" d=\"M955.0813,-45.5C962.631,-45.5 971.3302,-45.5 980.608,-45.5\"/>\n<polygon fill=\"#000000\" stroke=\"#000000\" points=\"980.8754,-49.0001 990.8754,-45.5 980.8754,-42.0001 980.8754,-49.0001\"/>\n</g>\n</g>\n</svg>\n",
            "text/plain": [
              "<graphviz.dot.Digraph at 0x7f9e688cc150>"
            ]
          },
          "execution_count": 67,
          "metadata": {},
          "output_type": "execute_result"
        }
      ],
      "source": [
        "draw_dot(L)"
      ]
    },
    {
      "cell_type": "code",
      "execution_count": null,
      "metadata": {
        "colab": {
          "base_uri": "https://localhost:8080/"
        },
        "id": "SEkf1Idy3bMQ",
        "outputId": "8443a1b3-e7f8-4197-8648-27c520737c37"
      },
      "outputs": [
        {
          "name": "stdout",
          "output_type": "stream",
          "text": [
            "-7.928064095999999\n"
          ]
        }
      ],
      "source": [
        "#each input node should incrrease in the direction of gradient \n",
        "a.data += 0.001 * a.grad\n",
        "b.data += 0.001 * b.grad\n",
        "f.data += 0.001 * f.grad\n",
        "c.data += 0.001 * c.grad\n",
        "\n",
        "e = a*b; \n",
        "d = e + c;\n",
        "\n",
        "L = d * f\n",
        "print(L.data)"
      ]
    },
    {
      "cell_type": "markdown",
      "metadata": {
        "id": "kS3fZYNfCwo2"
      },
      "source": [
        "## Manual Backprop with weights"
      ]
    },
    {
      "cell_type": "code",
      "execution_count": 4,
      "metadata": {
        "id": "qFaHXufB7BXu"
      },
      "outputs": [],
      "source": [
        "x1 = Value(2.0, label='x1')\n",
        "x2 = Value (0.0,label='x2')\n",
        "\n",
        "w1 = Value(-3.0, label='w1')\n",
        "w2 = Value(1.0, label='w2')\n",
        "\n",
        "b = Value(6.8813735870195432, label='b')\n",
        "\n",
        "x1w1 = x1*w1; x1w1.label = \"x1*w1\"\n",
        "x2w2 = x2*w2; x2w2.label = \"x2*w2\"\n",
        "x1w1x2w2 = x1w1 + x2w2; x1w1x2w2.label = 'x1*w1 + x2*w2'\n",
        "n = x1w1x2w2 + b; n.label = 'n'\n",
        "\n",
        "# activation function \n",
        "o = n.tanh(); o.label = 'o/p'\n",
        "\n"
      ]
    },
    {
      "cell_type": "code",
      "execution_count": 14,
      "metadata": {
        "colab": {
          "base_uri": "https://localhost:8080/",
          "height": 321
        },
        "id": "vPmqp_g3CFe3",
        "outputId": "7e04b630-2a7e-4cab-8993-9ec1ba71690c"
      },
      "outputs": [
        {
          "data": {
            "image/svg+xml": "<?xml version=\"1.0\" encoding=\"UTF-8\" standalone=\"no\"?>\n<!DOCTYPE svg PUBLIC \"-//W3C//DTD SVG 1.1//EN\"\n \"http://www.w3.org/Graphics/SVG/1.1/DTD/svg11.dtd\">\n<!-- Generated by graphviz version 2.40.1 (20161225.0304)\n -->\n<!-- Title: %3 Pages: 1 -->\n<svg width=\"1648pt\" height=\"210pt\"\n viewBox=\"0.00 0.00 1648.00 210.00\" xmlns=\"http://www.w3.org/2000/svg\" xmlns:xlink=\"http://www.w3.org/1999/xlink\">\n<g id=\"graph0\" class=\"graph\" transform=\"scale(1 1) rotate(0) translate(4 206)\">\n<title>%3</title>\n<polygon fill=\"#ffffff\" stroke=\"transparent\" points=\"-4,4 -4,-206 1644,-206 1644,4 -4,4\"/>\n<!-- 139947041044992 -->\n<g id=\"node1\" class=\"node\">\n<title>139947041044992</title>\n<polygon fill=\"none\" stroke=\"#000000\" points=\"2,-165.5 2,-201.5 209,-201.5 209,-165.5 2,-165.5\"/>\n<text text-anchor=\"middle\" x=\"19.5\" y=\"-179.8\" font-family=\"Times,serif\" font-size=\"14.00\" fill=\"#000000\">w2</text>\n<polyline fill=\"none\" stroke=\"#000000\" points=\"37,-165.5 37,-201.5 \"/>\n<text text-anchor=\"middle\" x=\"79.5\" y=\"-179.8\" font-family=\"Times,serif\" font-size=\"14.00\" fill=\"#000000\">data 1.0000</text>\n<polyline fill=\"none\" stroke=\"#000000\" points=\"122,-165.5 122,-201.5 \"/>\n<text text-anchor=\"middle\" x=\"165.5\" y=\"-179.8\" font-family=\"Times,serif\" font-size=\"14.00\" fill=\"#000000\">grad 0.0000</text>\n</g>\n<!-- 139947041046336* -->\n<g id=\"node11\" class=\"node\">\n<title>139947041046336*</title>\n<ellipse fill=\"none\" stroke=\"#000000\" cx=\"274\" cy=\"-128.5\" rx=\"27\" ry=\"18\"/>\n<text text-anchor=\"middle\" x=\"274\" y=\"-124.8\" font-family=\"Times,serif\" font-size=\"14.00\" fill=\"#000000\">*</text>\n</g>\n<!-- 139947041044992&#45;&gt;139947041046336* -->\n<g id=\"edge10\" class=\"edge\">\n<title>139947041044992&#45;&gt;139947041046336*</title>\n<path fill=\"none\" stroke=\"#000000\" d=\"M182.3017,-165.4558C192.0361,-162.698 201.8026,-159.6955 211,-156.5 221.6243,-152.8088 232.9373,-148.0548 243.0021,-143.5155\"/>\n<polygon fill=\"#000000\" stroke=\"#000000\" points=\"244.5909,-146.6371 252.2061,-139.271 241.6594,-140.2805 244.5909,-146.6371\"/>\n</g>\n<!-- 139947041045040 -->\n<g id=\"node2\" class=\"node\">\n<title>139947041045040</title>\n<polygon fill=\"none\" stroke=\"#000000\" points=\"1,-55.5 1,-91.5 210,-91.5 210,-55.5 1,-55.5\"/>\n<text text-anchor=\"middle\" x=\"17\" y=\"-69.8\" font-family=\"Times,serif\" font-size=\"14.00\" fill=\"#000000\">x1</text>\n<polyline fill=\"none\" stroke=\"#000000\" points=\"33,-55.5 33,-91.5 \"/>\n<text text-anchor=\"middle\" x=\"75.5\" y=\"-69.8\" font-family=\"Times,serif\" font-size=\"14.00\" fill=\"#000000\">data 2.0000</text>\n<polyline fill=\"none\" stroke=\"#000000\" points=\"118,-55.5 118,-91.5 \"/>\n<text text-anchor=\"middle\" x=\"164\" y=\"-69.8\" font-family=\"Times,serif\" font-size=\"14.00\" fill=\"#000000\">grad &#45;1.5000</text>\n</g>\n<!-- 139947041046288* -->\n<g id=\"node7\" class=\"node\">\n<title>139947041046288*</title>\n<ellipse fill=\"none\" stroke=\"#000000\" cx=\"274\" cy=\"-73.5\" rx=\"27\" ry=\"18\"/>\n<text text-anchor=\"middle\" x=\"274\" y=\"-69.8\" font-family=\"Times,serif\" font-size=\"14.00\" fill=\"#000000\">*</text>\n</g>\n<!-- 139947041045040&#45;&gt;139947041046288* -->\n<g id=\"edge13\" class=\"edge\">\n<title>139947041045040&#45;&gt;139947041046288*</title>\n<path fill=\"none\" stroke=\"#000000\" d=\"M210.2974,-73.5C219.6043,-73.5 228.5549,-73.5 236.6562,-73.5\"/>\n<polygon fill=\"#000000\" stroke=\"#000000\" points=\"236.7755,-77.0001 246.7754,-73.5 236.7754,-70.0001 236.7755,-77.0001\"/>\n</g>\n<!-- 139949096418416 -->\n<g id=\"node3\" class=\"node\">\n<title>139949096418416</title>\n<polygon fill=\"none\" stroke=\"#000000\" points=\"1433,-54.5 1433,-90.5 1640,-90.5 1640,-54.5 1433,-54.5\"/>\n<text text-anchor=\"middle\" x=\"1450.5\" y=\"-68.8\" font-family=\"Times,serif\" font-size=\"14.00\" fill=\"#000000\">o/p</text>\n<polyline fill=\"none\" stroke=\"#000000\" points=\"1468,-54.5 1468,-90.5 \"/>\n<text text-anchor=\"middle\" x=\"1510.5\" y=\"-68.8\" font-family=\"Times,serif\" font-size=\"14.00\" fill=\"#000000\">data 0.7071</text>\n<polyline fill=\"none\" stroke=\"#000000\" points=\"1553,-54.5 1553,-90.5 \"/>\n<text text-anchor=\"middle\" x=\"1596.5\" y=\"-68.8\" font-family=\"Times,serif\" font-size=\"14.00\" fill=\"#000000\">grad 1.0000</text>\n</g>\n<!-- 139949096418416tanh -->\n<g id=\"node4\" class=\"node\">\n<title>139949096418416tanh</title>\n<ellipse fill=\"none\" stroke=\"#000000\" cx=\"1370\" cy=\"-72.5\" rx=\"27\" ry=\"18\"/>\n<text text-anchor=\"middle\" x=\"1370\" y=\"-68.8\" font-family=\"Times,serif\" font-size=\"14.00\" fill=\"#000000\">tanh</text>\n</g>\n<!-- 139949096418416tanh&#45;&gt;139949096418416 -->\n<g id=\"edge1\" class=\"edge\">\n<title>139949096418416tanh&#45;&gt;139949096418416</title>\n<path fill=\"none\" stroke=\"#000000\" d=\"M1397.1217,-72.5C1404.6332,-72.5 1413.2858,-72.5 1422.5258,-72.5\"/>\n<polygon fill=\"#000000\" stroke=\"#000000\" points=\"1422.7565,-76.0001 1432.7565,-72.5 1422.7565,-69.0001 1422.7565,-76.0001\"/>\n</g>\n<!-- 139947041046144 -->\n<g id=\"node5\" class=\"node\">\n<title>139947041046144</title>\n<polygon fill=\"none\" stroke=\"#000000\" points=\"742.5,-27.5 742.5,-63.5 938.5,-63.5 938.5,-27.5 742.5,-27.5\"/>\n<text text-anchor=\"middle\" x=\"754.5\" y=\"-41.8\" font-family=\"Times,serif\" font-size=\"14.00\" fill=\"#000000\">b</text>\n<polyline fill=\"none\" stroke=\"#000000\" points=\"766.5,-27.5 766.5,-63.5 \"/>\n<text text-anchor=\"middle\" x=\"809\" y=\"-41.8\" font-family=\"Times,serif\" font-size=\"14.00\" fill=\"#000000\">data 6.8814</text>\n<polyline fill=\"none\" stroke=\"#000000\" points=\"851.5,-27.5 851.5,-63.5 \"/>\n<text text-anchor=\"middle\" x=\"895\" y=\"-41.8\" font-family=\"Times,serif\" font-size=\"14.00\" fill=\"#000000\">grad 0.5000</text>\n</g>\n<!-- 139949096418080+ -->\n<g id=\"node9\" class=\"node\">\n<title>139949096418080+</title>\n<ellipse fill=\"none\" stroke=\"#000000\" cx=\"1048\" cy=\"-72.5\" rx=\"27\" ry=\"18\"/>\n<text text-anchor=\"middle\" x=\"1048\" y=\"-68.8\" font-family=\"Times,serif\" font-size=\"14.00\" fill=\"#000000\">+</text>\n</g>\n<!-- 139947041046144&#45;&gt;139949096418080+ -->\n<g id=\"edge14\" class=\"edge\">\n<title>139947041046144&#45;&gt;139949096418080+</title>\n<path fill=\"none\" stroke=\"#000000\" d=\"M938.7811,-58.2884C964.6496,-61.6544 990.9727,-65.0796 1011.2938,-67.7238\"/>\n<polygon fill=\"#000000\" stroke=\"#000000\" points=\"1010.9711,-71.2112 1021.3391,-69.0309 1011.8744,-64.2697 1010.9711,-71.2112\"/>\n</g>\n<!-- 139947041046288 -->\n<g id=\"node6\" class=\"node\">\n<title>139947041046288</title>\n<polygon fill=\"none\" stroke=\"#000000\" points=\"337,-55.5 337,-91.5 570,-91.5 570,-55.5 337,-55.5\"/>\n<text text-anchor=\"middle\" x=\"365.5\" y=\"-69.8\" font-family=\"Times,serif\" font-size=\"14.00\" fill=\"#000000\">x1*w1</text>\n<polyline fill=\"none\" stroke=\"#000000\" points=\"394,-55.5 394,-91.5 \"/>\n<text text-anchor=\"middle\" x=\"438.5\" y=\"-69.8\" font-family=\"Times,serif\" font-size=\"14.00\" fill=\"#000000\">data &#45;6.0000</text>\n<polyline fill=\"none\" stroke=\"#000000\" points=\"483,-55.5 483,-91.5 \"/>\n<text text-anchor=\"middle\" x=\"526.5\" y=\"-69.8\" font-family=\"Times,serif\" font-size=\"14.00\" fill=\"#000000\">grad 0.5000</text>\n</g>\n<!-- 139947041043408+ -->\n<g id=\"node14\" class=\"node\">\n<title>139947041043408+</title>\n<ellipse fill=\"none\" stroke=\"#000000\" cx=\"633\" cy=\"-100.5\" rx=\"27\" ry=\"18\"/>\n<text text-anchor=\"middle\" x=\"633\" y=\"-96.8\" font-family=\"Times,serif\" font-size=\"14.00\" fill=\"#000000\">+</text>\n</g>\n<!-- 139947041046288&#45;&gt;139947041043408+ -->\n<g id=\"edge12\" class=\"edge\">\n<title>139947041046288&#45;&gt;139947041043408+</title>\n<path fill=\"none\" stroke=\"#000000\" d=\"M570.2196,-91.0567C579.5315,-92.4574 588.4163,-93.7938 596.4192,-94.9976\"/>\n<polygon fill=\"#000000\" stroke=\"#000000\" points=\"595.984,-98.4714 606.3934,-96.4979 597.0253,-91.5493 595.984,-98.4714\"/>\n</g>\n<!-- 139947041046288*&#45;&gt;139947041046288 -->\n<g id=\"edge2\" class=\"edge\">\n<title>139947041046288*&#45;&gt;139947041046288</title>\n<path fill=\"none\" stroke=\"#000000\" d=\"M301.2622,-73.5C308.8324,-73.5 317.5801,-73.5 326.9781,-73.5\"/>\n<polygon fill=\"#000000\" stroke=\"#000000\" points=\"326.9853,-77.0001 336.9853,-73.5 326.9852,-70.0001 326.9853,-77.0001\"/>\n</g>\n<!-- 139949096418080 -->\n<g id=\"node8\" class=\"node\">\n<title>139949096418080</title>\n<polygon fill=\"none\" stroke=\"#000000\" points=\"1111,-54.5 1111,-90.5 1307,-90.5 1307,-54.5 1111,-54.5\"/>\n<text text-anchor=\"middle\" x=\"1123\" y=\"-68.8\" font-family=\"Times,serif\" font-size=\"14.00\" fill=\"#000000\">n</text>\n<polyline fill=\"none\" stroke=\"#000000\" points=\"1135,-54.5 1135,-90.5 \"/>\n<text text-anchor=\"middle\" x=\"1177.5\" y=\"-68.8\" font-family=\"Times,serif\" font-size=\"14.00\" fill=\"#000000\">data 0.8814</text>\n<polyline fill=\"none\" stroke=\"#000000\" points=\"1220,-54.5 1220,-90.5 \"/>\n<text text-anchor=\"middle\" x=\"1263.5\" y=\"-68.8\" font-family=\"Times,serif\" font-size=\"14.00\" fill=\"#000000\">grad 0.5000</text>\n</g>\n<!-- 139949096418080&#45;&gt;139949096418416tanh -->\n<g id=\"edge11\" class=\"edge\">\n<title>139949096418080&#45;&gt;139949096418416tanh</title>\n<path fill=\"none\" stroke=\"#000000\" d=\"M1307.2922,-72.5C1316.2042,-72.5 1324.8099,-72.5 1332.6423,-72.5\"/>\n<polygon fill=\"#000000\" stroke=\"#000000\" points=\"1332.7996,-76.0001 1342.7995,-72.5 1332.7995,-69.0001 1332.7996,-76.0001\"/>\n</g>\n<!-- 139949096418080+&#45;&gt;139949096418080 -->\n<g id=\"edge3\" class=\"edge\">\n<title>139949096418080+&#45;&gt;139949096418080</title>\n<path fill=\"none\" stroke=\"#000000\" d=\"M1075.3115,-72.5C1082.8223,-72.5 1091.4512,-72.5 1100.6318,-72.5\"/>\n<polygon fill=\"#000000\" stroke=\"#000000\" points=\"1100.7835,-76.0001 1110.7835,-72.5 1100.7835,-69.0001 1100.7835,-76.0001\"/>\n</g>\n<!-- 139947041046336 -->\n<g id=\"node10\" class=\"node\">\n<title>139947041046336</title>\n<polygon fill=\"none\" stroke=\"#000000\" points=\"339,-110.5 339,-146.5 568,-146.5 568,-110.5 339,-110.5\"/>\n<text text-anchor=\"middle\" x=\"367.5\" y=\"-124.8\" font-family=\"Times,serif\" font-size=\"14.00\" fill=\"#000000\">x2*w2</text>\n<polyline fill=\"none\" stroke=\"#000000\" points=\"396,-110.5 396,-146.5 \"/>\n<text text-anchor=\"middle\" x=\"438.5\" y=\"-124.8\" font-family=\"Times,serif\" font-size=\"14.00\" fill=\"#000000\">data 0.0000</text>\n<polyline fill=\"none\" stroke=\"#000000\" points=\"481,-110.5 481,-146.5 \"/>\n<text text-anchor=\"middle\" x=\"524.5\" y=\"-124.8\" font-family=\"Times,serif\" font-size=\"14.00\" fill=\"#000000\">grad 0.5000</text>\n</g>\n<!-- 139947041046336&#45;&gt;139947041043408+ -->\n<g id=\"edge8\" class=\"edge\">\n<title>139947041046336&#45;&gt;139947041043408+</title>\n<path fill=\"none\" stroke=\"#000000\" d=\"M568.1964,-110.6086C578.3568,-109.0237 588.0538,-107.5111 596.7076,-106.1612\"/>\n<polygon fill=\"#000000\" stroke=\"#000000\" points=\"597.3659,-109.6009 606.7069,-104.6014 596.2869,-102.6846 597.3659,-109.6009\"/>\n</g>\n<!-- 139947041046336*&#45;&gt;139947041046336 -->\n<g id=\"edge4\" class=\"edge\">\n<title>139947041046336*&#45;&gt;139947041046336</title>\n<path fill=\"none\" stroke=\"#000000\" d=\"M301.2622,-128.5C309.2798,-128.5 318.6183,-128.5 328.6514,-128.5\"/>\n<polygon fill=\"#000000\" stroke=\"#000000\" points=\"328.8929,-132.0001 338.8928,-128.5 328.8928,-125.0001 328.8929,-132.0001\"/>\n</g>\n<!-- 139947041044896 -->\n<g id=\"node12\" class=\"node\">\n<title>139947041044896</title>\n<polygon fill=\"none\" stroke=\"#000000\" points=\"3.5,-110.5 3.5,-146.5 207.5,-146.5 207.5,-110.5 3.5,-110.5\"/>\n<text text-anchor=\"middle\" x=\"19.5\" y=\"-124.8\" font-family=\"Times,serif\" font-size=\"14.00\" fill=\"#000000\">x2</text>\n<polyline fill=\"none\" stroke=\"#000000\" points=\"35.5,-110.5 35.5,-146.5 \"/>\n<text text-anchor=\"middle\" x=\"78\" y=\"-124.8\" font-family=\"Times,serif\" font-size=\"14.00\" fill=\"#000000\">data 0.0000</text>\n<polyline fill=\"none\" stroke=\"#000000\" points=\"120.5,-110.5 120.5,-146.5 \"/>\n<text text-anchor=\"middle\" x=\"164\" y=\"-124.8\" font-family=\"Times,serif\" font-size=\"14.00\" fill=\"#000000\">grad 0.5000</text>\n</g>\n<!-- 139947041044896&#45;&gt;139947041046336* -->\n<g id=\"edge9\" class=\"edge\">\n<title>139947041044896&#45;&gt;139947041046336*</title>\n<path fill=\"none\" stroke=\"#000000\" d=\"M207.888,-128.5C218.0786,-128.5 227.8975,-128.5 236.7094,-128.5\"/>\n<polygon fill=\"#000000\" stroke=\"#000000\" points=\"236.9159,-132.0001 246.9159,-128.5 236.9158,-125.0001 236.9159,-132.0001\"/>\n</g>\n<!-- 139947041043408 -->\n<g id=\"node13\" class=\"node\">\n<title>139947041043408</title>\n<polygon fill=\"none\" stroke=\"#000000\" points=\"696,-82.5 696,-118.5 985,-118.5 985,-82.5 696,-82.5\"/>\n<text text-anchor=\"middle\" x=\"752.5\" y=\"-96.8\" font-family=\"Times,serif\" font-size=\"14.00\" fill=\"#000000\">x1*w1 + x2*w2</text>\n<polyline fill=\"none\" stroke=\"#000000\" points=\"809,-82.5 809,-118.5 \"/>\n<text text-anchor=\"middle\" x=\"853.5\" y=\"-96.8\" font-family=\"Times,serif\" font-size=\"14.00\" fill=\"#000000\">data &#45;6.0000</text>\n<polyline fill=\"none\" stroke=\"#000000\" points=\"898,-82.5 898,-118.5 \"/>\n<text text-anchor=\"middle\" x=\"941.5\" y=\"-96.8\" font-family=\"Times,serif\" font-size=\"14.00\" fill=\"#000000\">grad 0.5000</text>\n</g>\n<!-- 139947041043408&#45;&gt;139949096418080+ -->\n<g id=\"edge7\" class=\"edge\">\n<title>139947041043408&#45;&gt;139949096418080+</title>\n<path fill=\"none\" stroke=\"#000000\" d=\"M973.9665,-82.4901C987.5596,-80.6558 1000.4093,-78.9219 1011.4695,-77.4294\"/>\n<polygon fill=\"#000000\" stroke=\"#000000\" points=\"1012.049,-80.883 1021.4911,-76.0771 1011.1128,-73.9459 1012.049,-80.883\"/>\n</g>\n<!-- 139947041043408+&#45;&gt;139947041043408 -->\n<g id=\"edge5\" class=\"edge\">\n<title>139947041043408+&#45;&gt;139947041043408</title>\n<path fill=\"none\" stroke=\"#000000\" d=\"M660.127,-100.5C667.628,-100.5 676.3363,-100.5 685.7965,-100.5\"/>\n<polygon fill=\"#000000\" stroke=\"#000000\" points=\"685.9081,-104.0001 695.908,-100.5 685.908,-97.0001 685.9081,-104.0001\"/>\n</g>\n<!-- 139947041043936 -->\n<g id=\"node15\" class=\"node\">\n<title>139947041043936</title>\n<polygon fill=\"none\" stroke=\"#000000\" points=\"0,-.5 0,-36.5 211,-36.5 211,-.5 0,-.5\"/>\n<text text-anchor=\"middle\" x=\"17.5\" y=\"-14.8\" font-family=\"Times,serif\" font-size=\"14.00\" fill=\"#000000\">w1</text>\n<polyline fill=\"none\" stroke=\"#000000\" points=\"35,-.5 35,-36.5 \"/>\n<text text-anchor=\"middle\" x=\"79.5\" y=\"-14.8\" font-family=\"Times,serif\" font-size=\"14.00\" fill=\"#000000\">data &#45;3.0000</text>\n<polyline fill=\"none\" stroke=\"#000000\" points=\"124,-.5 124,-36.5 \"/>\n<text text-anchor=\"middle\" x=\"167.5\" y=\"-14.8\" font-family=\"Times,serif\" font-size=\"14.00\" fill=\"#000000\">grad 1.0000</text>\n</g>\n<!-- 139947041043936&#45;&gt;139947041046288* -->\n<g id=\"edge6\" class=\"edge\">\n<title>139947041043936&#45;&gt;139947041046288*</title>\n<path fill=\"none\" stroke=\"#000000\" d=\"M179.1277,-36.5688C189.8946,-39.636 200.7889,-42.9778 211,-46.5 221.4855,-50.1168 232.6874,-54.6793 242.694,-59.0193\"/>\n<polygon fill=\"#000000\" stroke=\"#000000\" points=\"241.2981,-62.229 251.8592,-63.0741 244.1302,-55.8274 241.2981,-62.229\"/>\n</g>\n</g>\n</svg>\n",
            "text/plain": [
              "<graphviz.dot.Digraph at 0x7f47f5ab34f0>"
            ]
          },
          "execution_count": 14,
          "metadata": {},
          "output_type": "execute_result"
        }
      ],
      "source": [
        "draw_dot(o)"
      ]
    },
    {
      "cell_type": "code",
      "execution_count": 6,
      "metadata": {
        "id": "5eCkWIJc900V"
      },
      "outputs": [],
      "source": [
        "o.grad = 1.0"
      ]
    },
    {
      "cell_type": "code",
      "execution_count": 8,
      "metadata": {
        "id": "k1F7G0pwCC2p"
      },
      "outputs": [],
      "source": [
        "\"\"\"local derivate of tan(h) \n",
        "do/dn = 1 - tanh(x)**2 1 - o**2\n",
        "\"\"\"\n",
        "n.grad = round((1 - o.data**2), 1)"
      ]
    },
    {
      "cell_type": "code",
      "execution_count": 10,
      "metadata": {
        "id": "SZBalfEQCpRR"
      },
      "outputs": [],
      "source": [
        "# since for +, the grad flows to the nodes that are being added \n",
        "x1w1x2w2.grad = 0.5\n",
        "b.grad = 0.5"
      ]
    },
    {
      "cell_type": "code",
      "execution_count": 11,
      "metadata": {
        "id": "-mCZtsjDEDxw"
      },
      "outputs": [],
      "source": [
        "x1w1.grad = 0.5\n",
        "x2w2.grad = 0.5"
      ]
    },
    {
      "cell_type": "code",
      "execution_count": 12,
      "metadata": {
        "id": "TvCMOPvkENBd"
      },
      "outputs": [],
      "source": [
        "\"\"\"\n",
        "do/dx2 = do/dx2w2 * dx2w2/dx2\n",
        "dx2w2/dx2 = x2 * w2 = w2\n",
        "\"\"\"\n",
        "x2.grad = x2w2.grad * w2.data\n",
        "\"\"\"\n",
        "since the gradient of w2.is 0 and \n",
        "the gradient tells us the effect on the final output\n",
        "therefore changing w2 has no effect \n",
        "\"\"\"\n",
        "w2.grad = x2w2.grad * x2.data"
      ]
    },
    {
      "cell_type": "code",
      "execution_count": 13,
      "metadata": {
        "id": "vqRe1xQIFqTe"
      },
      "outputs": [],
      "source": [
        "x1.grad = x1w1.grad * w1.data\n",
        "w1.grad = x1w1.grad * x1.data"
      ]
    },
    {
      "cell_type": "markdown",
      "metadata": {
        "id": "DtepHSsoGcyq"
      },
      "source": [
        "## Automated Backpropagation\n"
      ]
    },
    {
      "cell_type": "code",
      "execution_count": 21,
      "metadata": {
        "id": "r-1nmRkJGhL5"
      },
      "outputs": [],
      "source": [
        "x1 = Value(2.0, label='x1')\n",
        "x2 = Value (0.0,label='x2')\n",
        "\n",
        "w1 = Value(-3.0, label='w1')\n",
        "w2 = Value(1.0, label='w2')\n",
        "\n",
        "b = Value(6.8813735870195432, label='b')\n",
        "\n",
        "x1w1 = x1*w1; x1w1.label = \"x1*w1\"\n",
        "x2w2 = x2*w2; x2w2.label = \"x2*w2\"\n",
        "x1w1x2w2 = x1w1 + x2w2; x1w1x2w2.label = 'x1*w1 + x2*w2'\n",
        "n = x1w1x2w2 + b; n.label = 'n'\n",
        "\n",
        "# activation function \n",
        "o = n.tanh(); o.label = 'o/p'"
      ]
    },
    {
      "cell_type": "code",
      "execution_count": 29,
      "metadata": {
        "colab": {
          "base_uri": "https://localhost:8080/",
          "height": 321
        },
        "id": "RV_5RM0MmUnz",
        "outputId": "47e55566-2d67-4c39-8806-aa015e805033"
      },
      "outputs": [
        {
          "data": {
            "image/svg+xml": "<?xml version=\"1.0\" encoding=\"UTF-8\" standalone=\"no\"?>\n<!DOCTYPE svg PUBLIC \"-//W3C//DTD SVG 1.1//EN\"\n \"http://www.w3.org/Graphics/SVG/1.1/DTD/svg11.dtd\">\n<!-- Generated by graphviz version 2.40.1 (20161225.0304)\n -->\n<!-- Title: %3 Pages: 1 -->\n<svg width=\"1648pt\" height=\"210pt\"\n viewBox=\"0.00 0.00 1648.00 210.00\" xmlns=\"http://www.w3.org/2000/svg\" xmlns:xlink=\"http://www.w3.org/1999/xlink\">\n<g id=\"graph0\" class=\"graph\" transform=\"scale(1 1) rotate(0) translate(4 206)\">\n<title>%3</title>\n<polygon fill=\"#ffffff\" stroke=\"transparent\" points=\"-4,4 -4,-206 1644,-206 1644,4 -4,4\"/>\n<!-- 139947040812096 -->\n<g id=\"node1\" class=\"node\">\n<title>139947040812096</title>\n<polygon fill=\"none\" stroke=\"#000000\" points=\"3.5,-165.5 3.5,-201.5 207.5,-201.5 207.5,-165.5 3.5,-165.5\"/>\n<text text-anchor=\"middle\" x=\"19.5\" y=\"-179.8\" font-family=\"Times,serif\" font-size=\"14.00\" fill=\"#000000\">x2</text>\n<polyline fill=\"none\" stroke=\"#000000\" points=\"35.5,-165.5 35.5,-201.5 \"/>\n<text text-anchor=\"middle\" x=\"78\" y=\"-179.8\" font-family=\"Times,serif\" font-size=\"14.00\" fill=\"#000000\">data 0.0000</text>\n<polyline fill=\"none\" stroke=\"#000000\" points=\"120.5,-165.5 120.5,-201.5 \"/>\n<text text-anchor=\"middle\" x=\"164\" y=\"-179.8\" font-family=\"Times,serif\" font-size=\"14.00\" fill=\"#000000\">grad 0.5000</text>\n</g>\n<!-- 139947040812384* -->\n<g id=\"node11\" class=\"node\">\n<title>139947040812384*</title>\n<ellipse fill=\"none\" stroke=\"#000000\" cx=\"274\" cy=\"-128.5\" rx=\"27\" ry=\"18\"/>\n<text text-anchor=\"middle\" x=\"274\" y=\"-124.8\" font-family=\"Times,serif\" font-size=\"14.00\" fill=\"#000000\">*</text>\n</g>\n<!-- 139947040812096&#45;&gt;139947040812384* -->\n<g id=\"edge14\" class=\"edge\">\n<title>139947040812096&#45;&gt;139947040812384*</title>\n<path fill=\"none\" stroke=\"#000000\" d=\"M182.3017,-165.4558C192.0361,-162.698 201.8026,-159.6955 211,-156.5 221.6243,-152.8088 232.9373,-148.0548 243.0021,-143.5155\"/>\n<polygon fill=\"#000000\" stroke=\"#000000\" points=\"244.5909,-146.6371 252.2061,-139.271 241.6594,-140.2805 244.5909,-146.6371\"/>\n</g>\n<!-- 139947040812624 -->\n<g id=\"node2\" class=\"node\">\n<title>139947040812624</title>\n<polygon fill=\"none\" stroke=\"#000000\" points=\"1111,-54.5 1111,-90.5 1307,-90.5 1307,-54.5 1111,-54.5\"/>\n<text text-anchor=\"middle\" x=\"1123\" y=\"-68.8\" font-family=\"Times,serif\" font-size=\"14.00\" fill=\"#000000\">n</text>\n<polyline fill=\"none\" stroke=\"#000000\" points=\"1135,-54.5 1135,-90.5 \"/>\n<text text-anchor=\"middle\" x=\"1177.5\" y=\"-68.8\" font-family=\"Times,serif\" font-size=\"14.00\" fill=\"#000000\">data 0.8814</text>\n<polyline fill=\"none\" stroke=\"#000000\" points=\"1220,-54.5 1220,-90.5 \"/>\n<text text-anchor=\"middle\" x=\"1263.5\" y=\"-68.8\" font-family=\"Times,serif\" font-size=\"14.00\" fill=\"#000000\">grad 0.5000</text>\n</g>\n<!-- 139947040812864tanh -->\n<g id=\"node9\" class=\"node\">\n<title>139947040812864tanh</title>\n<ellipse fill=\"none\" stroke=\"#000000\" cx=\"1370\" cy=\"-72.5\" rx=\"27\" ry=\"18\"/>\n<text text-anchor=\"middle\" x=\"1370\" y=\"-68.8\" font-family=\"Times,serif\" font-size=\"14.00\" fill=\"#000000\">tanh</text>\n</g>\n<!-- 139947040812624&#45;&gt;139947040812864tanh -->\n<g id=\"edge7\" class=\"edge\">\n<title>139947040812624&#45;&gt;139947040812864tanh</title>\n<path fill=\"none\" stroke=\"#000000\" d=\"M1307.2922,-72.5C1316.2042,-72.5 1324.8099,-72.5 1332.6423,-72.5\"/>\n<polygon fill=\"#000000\" stroke=\"#000000\" points=\"1332.7996,-76.0001 1342.7995,-72.5 1332.7995,-69.0001 1332.7996,-76.0001\"/>\n</g>\n<!-- 139947040812624+ -->\n<g id=\"node3\" class=\"node\">\n<title>139947040812624+</title>\n<ellipse fill=\"none\" stroke=\"#000000\" cx=\"1048\" cy=\"-72.5\" rx=\"27\" ry=\"18\"/>\n<text text-anchor=\"middle\" x=\"1048\" y=\"-68.8\" font-family=\"Times,serif\" font-size=\"14.00\" fill=\"#000000\">+</text>\n</g>\n<!-- 139947040812624+&#45;&gt;139947040812624 -->\n<g id=\"edge1\" class=\"edge\">\n<title>139947040812624+&#45;&gt;139947040812624</title>\n<path fill=\"none\" stroke=\"#000000\" d=\"M1075.3115,-72.5C1082.8223,-72.5 1091.4512,-72.5 1100.6318,-72.5\"/>\n<polygon fill=\"#000000\" stroke=\"#000000\" points=\"1100.7835,-76.0001 1110.7835,-72.5 1100.7835,-69.0001 1100.7835,-76.0001\"/>\n</g>\n<!-- 139947040812144 -->\n<g id=\"node4\" class=\"node\">\n<title>139947040812144</title>\n<polygon fill=\"none\" stroke=\"#000000\" points=\"1,-55.5 1,-91.5 210,-91.5 210,-55.5 1,-55.5\"/>\n<text text-anchor=\"middle\" x=\"17\" y=\"-69.8\" font-family=\"Times,serif\" font-size=\"14.00\" fill=\"#000000\">x1</text>\n<polyline fill=\"none\" stroke=\"#000000\" points=\"33,-55.5 33,-91.5 \"/>\n<text text-anchor=\"middle\" x=\"75.5\" y=\"-69.8\" font-family=\"Times,serif\" font-size=\"14.00\" fill=\"#000000\">data 2.0000</text>\n<polyline fill=\"none\" stroke=\"#000000\" points=\"118,-55.5 118,-91.5 \"/>\n<text text-anchor=\"middle\" x=\"164\" y=\"-69.8\" font-family=\"Times,serif\" font-size=\"14.00\" fill=\"#000000\">grad &#45;1.5000</text>\n</g>\n<!-- 139947040812480* -->\n<g id=\"node13\" class=\"node\">\n<title>139947040812480*</title>\n<ellipse fill=\"none\" stroke=\"#000000\" cx=\"274\" cy=\"-73.5\" rx=\"27\" ry=\"18\"/>\n<text text-anchor=\"middle\" x=\"274\" y=\"-69.8\" font-family=\"Times,serif\" font-size=\"14.00\" fill=\"#000000\">*</text>\n</g>\n<!-- 139947040812144&#45;&gt;139947040812480* -->\n<g id=\"edge12\" class=\"edge\">\n<title>139947040812144&#45;&gt;139947040812480*</title>\n<path fill=\"none\" stroke=\"#000000\" d=\"M210.2974,-73.5C219.6043,-73.5 228.5549,-73.5 236.6562,-73.5\"/>\n<polygon fill=\"#000000\" stroke=\"#000000\" points=\"236.7755,-77.0001 246.7754,-73.5 236.7754,-70.0001 236.7755,-77.0001\"/>\n</g>\n<!-- 139947040810128 -->\n<g id=\"node5\" class=\"node\">\n<title>139947040810128</title>\n<polygon fill=\"none\" stroke=\"#000000\" points=\"2,-110.5 2,-146.5 209,-146.5 209,-110.5 2,-110.5\"/>\n<text text-anchor=\"middle\" x=\"19.5\" y=\"-124.8\" font-family=\"Times,serif\" font-size=\"14.00\" fill=\"#000000\">w2</text>\n<polyline fill=\"none\" stroke=\"#000000\" points=\"37,-110.5 37,-146.5 \"/>\n<text text-anchor=\"middle\" x=\"79.5\" y=\"-124.8\" font-family=\"Times,serif\" font-size=\"14.00\" fill=\"#000000\">data 1.0000</text>\n<polyline fill=\"none\" stroke=\"#000000\" points=\"122,-110.5 122,-146.5 \"/>\n<text text-anchor=\"middle\" x=\"165.5\" y=\"-124.8\" font-family=\"Times,serif\" font-size=\"14.00\" fill=\"#000000\">grad 0.0000</text>\n</g>\n<!-- 139947040810128&#45;&gt;139947040812384* -->\n<g id=\"edge11\" class=\"edge\">\n<title>139947040810128&#45;&gt;139947040812384*</title>\n<path fill=\"none\" stroke=\"#000000\" d=\"M209.3354,-128.5C219.0497,-128.5 228.3963,-128.5 236.8187,-128.5\"/>\n<polygon fill=\"#000000\" stroke=\"#000000\" points=\"236.951,-132.0001 246.9509,-128.5 236.9509,-125.0001 236.951,-132.0001\"/>\n</g>\n<!-- 139947040812192 -->\n<g id=\"node6\" class=\"node\">\n<title>139947040812192</title>\n<polygon fill=\"none\" stroke=\"#000000\" points=\"0,-.5 0,-36.5 211,-36.5 211,-.5 0,-.5\"/>\n<text text-anchor=\"middle\" x=\"17.5\" y=\"-14.8\" font-family=\"Times,serif\" font-size=\"14.00\" fill=\"#000000\">w1</text>\n<polyline fill=\"none\" stroke=\"#000000\" points=\"35,-.5 35,-36.5 \"/>\n<text text-anchor=\"middle\" x=\"79.5\" y=\"-14.8\" font-family=\"Times,serif\" font-size=\"14.00\" fill=\"#000000\">data &#45;3.0000</text>\n<polyline fill=\"none\" stroke=\"#000000\" points=\"124,-.5 124,-36.5 \"/>\n<text text-anchor=\"middle\" x=\"167.5\" y=\"-14.8\" font-family=\"Times,serif\" font-size=\"14.00\" fill=\"#000000\">grad 1.0000</text>\n</g>\n<!-- 139947040812192&#45;&gt;139947040812480* -->\n<g id=\"edge6\" class=\"edge\">\n<title>139947040812192&#45;&gt;139947040812480*</title>\n<path fill=\"none\" stroke=\"#000000\" d=\"M179.1277,-36.5688C189.8946,-39.636 200.7889,-42.9778 211,-46.5 221.4855,-50.1168 232.6874,-54.6793 242.694,-59.0193\"/>\n<polygon fill=\"#000000\" stroke=\"#000000\" points=\"241.2981,-62.229 251.8592,-63.0741 244.1302,-55.8274 241.2981,-62.229\"/>\n</g>\n<!-- 139947040812240 -->\n<g id=\"node7\" class=\"node\">\n<title>139947040812240</title>\n<polygon fill=\"none\" stroke=\"#000000\" points=\"742.5,-27.5 742.5,-63.5 938.5,-63.5 938.5,-27.5 742.5,-27.5\"/>\n<text text-anchor=\"middle\" x=\"754.5\" y=\"-41.8\" font-family=\"Times,serif\" font-size=\"14.00\" fill=\"#000000\">b</text>\n<polyline fill=\"none\" stroke=\"#000000\" points=\"766.5,-27.5 766.5,-63.5 \"/>\n<text text-anchor=\"middle\" x=\"809\" y=\"-41.8\" font-family=\"Times,serif\" font-size=\"14.00\" fill=\"#000000\">data 6.8814</text>\n<polyline fill=\"none\" stroke=\"#000000\" points=\"851.5,-27.5 851.5,-63.5 \"/>\n<text text-anchor=\"middle\" x=\"895\" y=\"-41.8\" font-family=\"Times,serif\" font-size=\"14.00\" fill=\"#000000\">grad 0.5000</text>\n</g>\n<!-- 139947040812240&#45;&gt;139947040812624+ -->\n<g id=\"edge10\" class=\"edge\">\n<title>139947040812240&#45;&gt;139947040812624+</title>\n<path fill=\"none\" stroke=\"#000000\" d=\"M938.7811,-58.2884C964.6496,-61.6544 990.9727,-65.0796 1011.2938,-67.7238\"/>\n<polygon fill=\"#000000\" stroke=\"#000000\" points=\"1010.9711,-71.2112 1021.3391,-69.0309 1011.8744,-64.2697 1010.9711,-71.2112\"/>\n</g>\n<!-- 139947040812864 -->\n<g id=\"node8\" class=\"node\">\n<title>139947040812864</title>\n<polygon fill=\"none\" stroke=\"#000000\" points=\"1433,-54.5 1433,-90.5 1640,-90.5 1640,-54.5 1433,-54.5\"/>\n<text text-anchor=\"middle\" x=\"1450.5\" y=\"-68.8\" font-family=\"Times,serif\" font-size=\"14.00\" fill=\"#000000\">o/p</text>\n<polyline fill=\"none\" stroke=\"#000000\" points=\"1468,-54.5 1468,-90.5 \"/>\n<text text-anchor=\"middle\" x=\"1510.5\" y=\"-68.8\" font-family=\"Times,serif\" font-size=\"14.00\" fill=\"#000000\">data 0.7071</text>\n<polyline fill=\"none\" stroke=\"#000000\" points=\"1553,-54.5 1553,-90.5 \"/>\n<text text-anchor=\"middle\" x=\"1596.5\" y=\"-68.8\" font-family=\"Times,serif\" font-size=\"14.00\" fill=\"#000000\">grad 1.0000</text>\n</g>\n<!-- 139947040812864tanh&#45;&gt;139947040812864 -->\n<g id=\"edge2\" class=\"edge\">\n<title>139947040812864tanh&#45;&gt;139947040812864</title>\n<path fill=\"none\" stroke=\"#000000\" d=\"M1397.1217,-72.5C1404.6332,-72.5 1413.2858,-72.5 1422.5258,-72.5\"/>\n<polygon fill=\"#000000\" stroke=\"#000000\" points=\"1422.7565,-76.0001 1432.7565,-72.5 1422.7565,-69.0001 1422.7565,-76.0001\"/>\n</g>\n<!-- 139947040812384 -->\n<g id=\"node10\" class=\"node\">\n<title>139947040812384</title>\n<polygon fill=\"none\" stroke=\"#000000\" points=\"339,-110.5 339,-146.5 568,-146.5 568,-110.5 339,-110.5\"/>\n<text text-anchor=\"middle\" x=\"367.5\" y=\"-124.8\" font-family=\"Times,serif\" font-size=\"14.00\" fill=\"#000000\">x2*w2</text>\n<polyline fill=\"none\" stroke=\"#000000\" points=\"396,-110.5 396,-146.5 \"/>\n<text text-anchor=\"middle\" x=\"438.5\" y=\"-124.8\" font-family=\"Times,serif\" font-size=\"14.00\" fill=\"#000000\">data 0.0000</text>\n<polyline fill=\"none\" stroke=\"#000000\" points=\"481,-110.5 481,-146.5 \"/>\n<text text-anchor=\"middle\" x=\"524.5\" y=\"-124.8\" font-family=\"Times,serif\" font-size=\"14.00\" fill=\"#000000\">grad 0.5000</text>\n</g>\n<!-- 139947040812528+ -->\n<g id=\"node15\" class=\"node\">\n<title>139947040812528+</title>\n<ellipse fill=\"none\" stroke=\"#000000\" cx=\"633\" cy=\"-100.5\" rx=\"27\" ry=\"18\"/>\n<text text-anchor=\"middle\" x=\"633\" y=\"-96.8\" font-family=\"Times,serif\" font-size=\"14.00\" fill=\"#000000\">+</text>\n</g>\n<!-- 139947040812384&#45;&gt;139947040812528+ -->\n<g id=\"edge9\" class=\"edge\">\n<title>139947040812384&#45;&gt;139947040812528+</title>\n<path fill=\"none\" stroke=\"#000000\" d=\"M568.1964,-110.6086C578.3568,-109.0237 588.0538,-107.5111 596.7076,-106.1612\"/>\n<polygon fill=\"#000000\" stroke=\"#000000\" points=\"597.3659,-109.6009 606.7069,-104.6014 596.2869,-102.6846 597.3659,-109.6009\"/>\n</g>\n<!-- 139947040812384*&#45;&gt;139947040812384 -->\n<g id=\"edge3\" class=\"edge\">\n<title>139947040812384*&#45;&gt;139947040812384</title>\n<path fill=\"none\" stroke=\"#000000\" d=\"M301.2622,-128.5C309.2798,-128.5 318.6183,-128.5 328.6514,-128.5\"/>\n<polygon fill=\"#000000\" stroke=\"#000000\" points=\"328.8929,-132.0001 338.8928,-128.5 328.8928,-125.0001 328.8929,-132.0001\"/>\n</g>\n<!-- 139947040812480 -->\n<g id=\"node12\" class=\"node\">\n<title>139947040812480</title>\n<polygon fill=\"none\" stroke=\"#000000\" points=\"337,-55.5 337,-91.5 570,-91.5 570,-55.5 337,-55.5\"/>\n<text text-anchor=\"middle\" x=\"365.5\" y=\"-69.8\" font-family=\"Times,serif\" font-size=\"14.00\" fill=\"#000000\">x1*w1</text>\n<polyline fill=\"none\" stroke=\"#000000\" points=\"394,-55.5 394,-91.5 \"/>\n<text text-anchor=\"middle\" x=\"438.5\" y=\"-69.8\" font-family=\"Times,serif\" font-size=\"14.00\" fill=\"#000000\">data &#45;6.0000</text>\n<polyline fill=\"none\" stroke=\"#000000\" points=\"483,-55.5 483,-91.5 \"/>\n<text text-anchor=\"middle\" x=\"526.5\" y=\"-69.8\" font-family=\"Times,serif\" font-size=\"14.00\" fill=\"#000000\">grad 0.5000</text>\n</g>\n<!-- 139947040812480&#45;&gt;139947040812528+ -->\n<g id=\"edge13\" class=\"edge\">\n<title>139947040812480&#45;&gt;139947040812528+</title>\n<path fill=\"none\" stroke=\"#000000\" d=\"M570.2196,-91.0567C579.5315,-92.4574 588.4163,-93.7938 596.4192,-94.9976\"/>\n<polygon fill=\"#000000\" stroke=\"#000000\" points=\"595.984,-98.4714 606.3934,-96.4979 597.0253,-91.5493 595.984,-98.4714\"/>\n</g>\n<!-- 139947040812480*&#45;&gt;139947040812480 -->\n<g id=\"edge4\" class=\"edge\">\n<title>139947040812480*&#45;&gt;139947040812480</title>\n<path fill=\"none\" stroke=\"#000000\" d=\"M301.2622,-73.5C308.8324,-73.5 317.5801,-73.5 326.9781,-73.5\"/>\n<polygon fill=\"#000000\" stroke=\"#000000\" points=\"326.9853,-77.0001 336.9853,-73.5 326.9852,-70.0001 326.9853,-77.0001\"/>\n</g>\n<!-- 139947040812528 -->\n<g id=\"node14\" class=\"node\">\n<title>139947040812528</title>\n<polygon fill=\"none\" stroke=\"#000000\" points=\"696,-82.5 696,-118.5 985,-118.5 985,-82.5 696,-82.5\"/>\n<text text-anchor=\"middle\" x=\"752.5\" y=\"-96.8\" font-family=\"Times,serif\" font-size=\"14.00\" fill=\"#000000\">x1*w1 + x2*w2</text>\n<polyline fill=\"none\" stroke=\"#000000\" points=\"809,-82.5 809,-118.5 \"/>\n<text text-anchor=\"middle\" x=\"853.5\" y=\"-96.8\" font-family=\"Times,serif\" font-size=\"14.00\" fill=\"#000000\">data &#45;6.0000</text>\n<polyline fill=\"none\" stroke=\"#000000\" points=\"898,-82.5 898,-118.5 \"/>\n<text text-anchor=\"middle\" x=\"941.5\" y=\"-96.8\" font-family=\"Times,serif\" font-size=\"14.00\" fill=\"#000000\">grad 0.5000</text>\n</g>\n<!-- 139947040812528&#45;&gt;139947040812624+ -->\n<g id=\"edge8\" class=\"edge\">\n<title>139947040812528&#45;&gt;139947040812624+</title>\n<path fill=\"none\" stroke=\"#000000\" d=\"M973.9665,-82.4901C987.5596,-80.6558 1000.4093,-78.9219 1011.4695,-77.4294\"/>\n<polygon fill=\"#000000\" stroke=\"#000000\" points=\"1012.049,-80.883 1021.4911,-76.0771 1011.1128,-73.9459 1012.049,-80.883\"/>\n</g>\n<!-- 139947040812528+&#45;&gt;139947040812528 -->\n<g id=\"edge5\" class=\"edge\">\n<title>139947040812528+&#45;&gt;139947040812528</title>\n<path fill=\"none\" stroke=\"#000000\" d=\"M660.127,-100.5C667.628,-100.5 676.3363,-100.5 685.7965,-100.5\"/>\n<polygon fill=\"#000000\" stroke=\"#000000\" points=\"685.9081,-104.0001 695.908,-100.5 685.908,-97.0001 685.9081,-104.0001\"/>\n</g>\n</g>\n</svg>\n",
            "text/plain": [
              "<graphviz.dot.Digraph at 0x7f47f5b17f10>"
            ]
          },
          "execution_count": 29,
          "metadata": {},
          "output_type": "execute_result"
        }
      ],
      "source": [
        "draw_dot(o)"
      ]
    },
    {
      "cell_type": "code",
      "execution_count": 23,
      "metadata": {
        "id": "WVwricDHzEZD"
      },
      "outputs": [],
      "source": [
        "#set to 1.0 as a base case\n",
        "o.grad = 1.0\n",
        "o._backward()"
      ]
    },
    {
      "cell_type": "code",
      "execution_count": 25,
      "metadata": {
        "id": "1abCPYK1nSbe"
      },
      "outputs": [],
      "source": [
        "n._backward()"
      ]
    },
    {
      "cell_type": "code",
      "execution_count": 26,
      "metadata": {
        "id": "3j0phQ9UnVSY"
      },
      "outputs": [],
      "source": [
        "x1w1x2w2._backward()"
      ]
    },
    {
      "cell_type": "code",
      "execution_count": 27,
      "metadata": {
        "id": "FbQ0hrK0ne1L"
      },
      "outputs": [],
      "source": [
        "x2w2._backward()"
      ]
    },
    {
      "cell_type": "code",
      "execution_count": 28,
      "metadata": {
        "id": "KmpNT8tsnidO"
      },
      "outputs": [],
      "source": [
        "x1w1._backward()"
      ]
    },
    {
      "cell_type": "code",
      "execution_count": null,
      "metadata": {
        "id": "TlaWzLMPZANZ"
      },
      "outputs": [],
      "source": [
        "#witht the backward function, we can call the function without the underscore\n",
        "o.backward()"
      ]
    },
    {
      "cell_type": "markdown",
      "metadata": {
        "id": "kd1TYOIpoEl-"
      },
      "source": [
        "#### Topological sort\n",
        "\n",
        "\n",
        "\n",
        "\n",
        "*   All the edges go left to right\n",
        "*   O only adds itself to the list after all the child nodes have been added\n"
      ]
    },
    {
      "cell_type": "code",
      "execution_count": 30,
      "metadata": {
        "id": "GAQFE2v3oGur"
      },
      "outputs": [],
      "source": [
        "topo = []\n",
        "visited = set()\n",
        "def build_topo(v):\n",
        "  if v not in visited:\n",
        "    visited.add(v)\n",
        "    for child in v._prev:\n",
        "      build_topo(child)\n",
        "    topo.append(v)"
      ]
    },
    {
      "cell_type": "code",
      "execution_count": 31,
      "metadata": {
        "colab": {
          "base_uri": "https://localhost:8080/"
        },
        "id": "2E5zkn7QqHuN",
        "outputId": "245e6c39-85e0-4bb0-f544-54341c107d51"
      },
      "outputs": [
        {
          "data": {
            "text/plain": [
              "[value(data = 6.881373587019543),\n",
              " value(data = -3.0),\n",
              " value(data = 2.0),\n",
              " value(data = -6.0),\n",
              " value(data = 1.0),\n",
              " value(data = 0.0),\n",
              " value(data = 0.0),\n",
              " value(data = -6.0),\n",
              " value(data = 0.8813735870195432),\n",
              " value(data = 0.7071067811865476)]"
            ]
          },
          "execution_count": 31,
          "metadata": {},
          "output_type": "execute_result"
        }
      ],
      "source": [
        "build_topo(o)\n",
        "topo"
      ]
    },
    {
      "cell_type": "markdown",
      "metadata": {
        "id": "Ltfh5nVF7Gd6"
      },
      "source": [
        "## Breaking tanh into a function of x"
      ]
    },
    {
      "cell_type": "code",
      "execution_count": null,
      "metadata": {
        "id": "G5KnxnUd_HFW"
      },
      "outputs": [],
      "source": [
        "x1 = Value(2.0, label='x1')\n",
        "x2 = Value (0.0,label='x2')\n",
        "\n",
        "w1 = Value(-3.0, label='w1')\n",
        "w2 = Value(1.0, label='w2')\n",
        "\n",
        "b = Value(6.8813735870195432, label='b')\n",
        "\n",
        "x1w1 = x1*w1; x1w1.label = \"x1*w1\"\n",
        "x2w2 = x2*w2; x2w2.label = \"x2*w2\"\n",
        "x1w1x2w2 = x1w1 + x2w2; x1w1x2w2.label = 'x1*w1 + x2*w2'\n",
        "n = x1w1x2w2 + b; n.label = 'n'\n",
        "\n",
        "# activation function o = n.tanh()\n",
        "e = (2*n).exp()\n",
        "o = (e - 1) / ( e + 1)\n",
        "# ------\n",
        "o.label = 'o/p'\n",
        "o.backward()"
      ]
    },
    {
      "cell_type": "code",
      "execution_count": null,
      "metadata": {
        "colab": {
          "base_uri": "https://localhost:8080/",
          "height": 356
        },
        "id": "eEda4GVX-MYz",
        "outputId": "31029748-d6d8-40dc-eb44-9c90407124ce"
      },
      "outputs": [
        {
          "data": {
            "image/svg+xml": "<?xml version=\"1.0\" encoding=\"UTF-8\" standalone=\"no\"?>\n<!DOCTYPE svg PUBLIC \"-//W3C//DTD SVG 1.1//EN\"\n \"http://www.w3.org/Graphics/SVG/1.1/DTD/svg11.dtd\">\n<!-- Generated by graphviz version 2.40.1 (20161225.0304)\n -->\n<!-- Title: %3 Pages: 1 -->\n<svg width=\"3068pt\" height=\"236pt\"\n viewBox=\"0.00 0.00 3068.00 236.00\" xmlns=\"http://www.w3.org/2000/svg\" xmlns:xlink=\"http://www.w3.org/1999/xlink\">\n<g id=\"graph0\" class=\"graph\" transform=\"scale(1 1) rotate(0) translate(4 232)\">\n<title>%3</title>\n<polygon fill=\"#ffffff\" stroke=\"transparent\" points=\"-4,4 -4,-232 3064,-232 3064,4 -4,4\"/>\n<!-- 140306070774224 -->\n<g id=\"node1\" class=\"node\">\n<title>140306070774224</title>\n<polygon fill=\"none\" stroke=\"#000000\" points=\"2307,-163.5 2307,-199.5 2499,-199.5 2499,-163.5 2307,-163.5\"/>\n<text text-anchor=\"middle\" x=\"2317\" y=\"-177.8\" font-family=\"Times,serif\" font-size=\"14.00\" fill=\"#000000\"> </text>\n<polyline fill=\"none\" stroke=\"#000000\" points=\"2327,-163.5 2327,-199.5 \"/>\n<text text-anchor=\"middle\" x=\"2369.5\" y=\"-177.8\" font-family=\"Times,serif\" font-size=\"14.00\" fill=\"#000000\">data 4.8284</text>\n<polyline fill=\"none\" stroke=\"#000000\" points=\"2412,-163.5 2412,-199.5 \"/>\n<text text-anchor=\"middle\" x=\"2455.5\" y=\"-177.8\" font-family=\"Times,serif\" font-size=\"14.00\" fill=\"#000000\">grad 0.1464</text>\n</g>\n<!-- 140306070774864* -->\n<g id=\"node4\" class=\"node\">\n<title>140306070774864*</title>\n<ellipse fill=\"none\" stroke=\"#000000\" cx=\"2790\" cy=\"-153.5\" rx=\"27\" ry=\"18\"/>\n<text text-anchor=\"middle\" x=\"2790\" y=\"-149.8\" font-family=\"Times,serif\" font-size=\"14.00\" fill=\"#000000\">*</text>\n</g>\n<!-- 140306070774224&#45;&gt;140306070774864* -->\n<g id=\"edge27\" class=\"edge\">\n<title>140306070774224&#45;&gt;140306070774864*</title>\n<path fill=\"none\" stroke=\"#000000\" d=\"M2499.0652,-174.8912C2563.543,-170.4036 2650.3827,-164.2597 2727,-158.5 2735.4007,-157.8685 2744.4294,-157.166 2752.9537,-156.4919\"/>\n<polygon fill=\"#000000\" stroke=\"#000000\" points=\"2753.3345,-159.9728 2763.0253,-155.6905 2752.7792,-152.9949 2753.3345,-159.9728\"/>\n</g>\n<!-- 140306070774224+ -->\n<g id=\"node2\" class=\"node\">\n<title>140306070774224+</title>\n<ellipse fill=\"none\" stroke=\"#000000\" cx=\"2011\" cy=\"-181.5\" rx=\"27\" ry=\"18\"/>\n<text text-anchor=\"middle\" x=\"2011\" y=\"-177.8\" font-family=\"Times,serif\" font-size=\"14.00\" fill=\"#000000\">+</text>\n</g>\n<!-- 140306070774224+&#45;&gt;140306070774224 -->\n<g id=\"edge1\" class=\"edge\">\n<title>140306070774224+&#45;&gt;140306070774224</title>\n<path fill=\"none\" stroke=\"#000000\" d=\"M2038.2535,-181.5C2090.8629,-181.5 2208.9488,-181.5 2296.5875,-181.5\"/>\n<polygon fill=\"#000000\" stroke=\"#000000\" points=\"2296.8483,-185.0001 2306.8482,-181.5 2296.8482,-178.0001 2296.8483,-185.0001\"/>\n</g>\n<!-- 140306070774864 -->\n<g id=\"node3\" class=\"node\">\n<title>140306070774864</title>\n<polygon fill=\"none\" stroke=\"#000000\" points=\"2853,-135.5 2853,-171.5 3060,-171.5 3060,-135.5 2853,-135.5\"/>\n<text text-anchor=\"middle\" x=\"2870.5\" y=\"-149.8\" font-family=\"Times,serif\" font-size=\"14.00\" fill=\"#000000\">o/p</text>\n<polyline fill=\"none\" stroke=\"#000000\" points=\"2888,-135.5 2888,-171.5 \"/>\n<text text-anchor=\"middle\" x=\"2930.5\" y=\"-149.8\" font-family=\"Times,serif\" font-size=\"14.00\" fill=\"#000000\">data 0.7071</text>\n<polyline fill=\"none\" stroke=\"#000000\" points=\"2973,-135.5 2973,-171.5 \"/>\n<text text-anchor=\"middle\" x=\"3016.5\" y=\"-149.8\" font-family=\"Times,serif\" font-size=\"14.00\" fill=\"#000000\">grad 1.0000</text>\n</g>\n<!-- 140306070774864*&#45;&gt;140306070774864 -->\n<g id=\"edge2\" class=\"edge\">\n<title>140306070774864*&#45;&gt;140306070774864</title>\n<path fill=\"none\" stroke=\"#000000\" d=\"M2817.1217,-153.5C2824.6332,-153.5 2833.2858,-153.5 2842.5258,-153.5\"/>\n<polygon fill=\"#000000\" stroke=\"#000000\" points=\"2842.7565,-157.0001 2852.7565,-153.5 2842.7565,-150.0001 2842.7565,-157.0001\"/>\n</g>\n<!-- 140306070773904 -->\n<g id=\"node5\" class=\"node\">\n<title>140306070773904</title>\n<polygon fill=\"none\" stroke=\"#000000\" points=\"2074,-108.5 2074,-144.5 2271,-144.5 2271,-108.5 2074,-108.5\"/>\n<text text-anchor=\"middle\" x=\"2084\" y=\"-122.8\" font-family=\"Times,serif\" font-size=\"14.00\" fill=\"#000000\"> </text>\n<polyline fill=\"none\" stroke=\"#000000\" points=\"2094,-108.5 2094,-144.5 \"/>\n<text text-anchor=\"middle\" x=\"2136.5\" y=\"-122.8\" font-family=\"Times,serif\" font-size=\"14.00\" fill=\"#000000\">data 6.8284</text>\n<polyline fill=\"none\" stroke=\"#000000\" points=\"2179,-108.5 2179,-144.5 \"/>\n<text text-anchor=\"middle\" x=\"2225\" y=\"-122.8\" font-family=\"Times,serif\" font-size=\"14.00\" fill=\"#000000\">grad &#45;0.1036</text>\n</g>\n<!-- 140306070774480**&#45;1 -->\n<g id=\"node10\" class=\"node\">\n<title>140306070774480**&#45;1</title>\n<ellipse fill=\"none\" stroke=\"#000000\" cx=\"2403\" cy=\"-126.5\" rx=\"28.6953\" ry=\"18\"/>\n<text text-anchor=\"middle\" x=\"2403\" y=\"-122.8\" font-family=\"Times,serif\" font-size=\"14.00\" fill=\"#000000\">**&#45;1</text>\n</g>\n<!-- 140306070773904&#45;&gt;140306070774480**&#45;1 -->\n<g id=\"edge11\" class=\"edge\">\n<title>140306070773904&#45;&gt;140306070774480**&#45;1</title>\n<path fill=\"none\" stroke=\"#000000\" d=\"M2271.2558,-126.5C2304.1184,-126.5 2338.8079,-126.5 2364.3374,-126.5\"/>\n<polygon fill=\"#000000\" stroke=\"#000000\" points=\"2364.3393,-130.0001 2374.3393,-126.5 2364.3392,-123.0001 2364.3393,-130.0001\"/>\n</g>\n<!-- 140306070773904+ -->\n<g id=\"node6\" class=\"node\">\n<title>140306070773904+</title>\n<ellipse fill=\"none\" stroke=\"#000000\" cx=\"2011\" cy=\"-126.5\" rx=\"27\" ry=\"18\"/>\n<text text-anchor=\"middle\" x=\"2011\" y=\"-122.8\" font-family=\"Times,serif\" font-size=\"14.00\" fill=\"#000000\">+</text>\n</g>\n<!-- 140306070773904+&#45;&gt;140306070773904 -->\n<g id=\"edge3\" class=\"edge\">\n<title>140306070773904+&#45;&gt;140306070773904</title>\n<path fill=\"none\" stroke=\"#000000\" d=\"M2038.0315,-126.5C2045.6149,-126.5 2054.3553,-126.5 2063.6644,-126.5\"/>\n<polygon fill=\"#000000\" stroke=\"#000000\" points=\"2063.9613,-130.0001 2073.9613,-126.5 2063.9613,-123.0001 2063.9613,-130.0001\"/>\n</g>\n<!-- 140306070753936 -->\n<g id=\"node7\" class=\"node\">\n<title>140306070753936</title>\n<polygon fill=\"none\" stroke=\"#000000\" points=\"1433,-136.5 1433,-172.5 1625,-172.5 1625,-136.5 1433,-136.5\"/>\n<text text-anchor=\"middle\" x=\"1443\" y=\"-150.8\" font-family=\"Times,serif\" font-size=\"14.00\" fill=\"#000000\"> </text>\n<polyline fill=\"none\" stroke=\"#000000\" points=\"1453,-136.5 1453,-172.5 \"/>\n<text text-anchor=\"middle\" x=\"1495.5\" y=\"-150.8\" font-family=\"Times,serif\" font-size=\"14.00\" fill=\"#000000\">data 1.7627</text>\n<polyline fill=\"none\" stroke=\"#000000\" points=\"1538,-136.5 1538,-172.5 \"/>\n<text text-anchor=\"middle\" x=\"1581.5\" y=\"-150.8\" font-family=\"Times,serif\" font-size=\"14.00\" fill=\"#000000\">grad 0.2500</text>\n</g>\n<!-- 140306070755024exp -->\n<g id=\"node12\" class=\"node\">\n<title>140306070755024exp</title>\n<ellipse fill=\"none\" stroke=\"#000000\" cx=\"1688\" cy=\"-154.5\" rx=\"27\" ry=\"18\"/>\n<text text-anchor=\"middle\" x=\"1688\" y=\"-150.8\" font-family=\"Times,serif\" font-size=\"14.00\" fill=\"#000000\">exp</text>\n</g>\n<!-- 140306070753936&#45;&gt;140306070755024exp -->\n<g id=\"edge12\" class=\"edge\">\n<title>140306070753936&#45;&gt;140306070755024exp</title>\n<path fill=\"none\" stroke=\"#000000\" d=\"M1625.159,-154.5C1634.0615,-154.5 1642.6722,-154.5 1650.517,-154.5\"/>\n<polygon fill=\"#000000\" stroke=\"#000000\" points=\"1650.6952,-158.0001 1660.6952,-154.5 1650.6951,-151.0001 1650.6952,-158.0001\"/>\n</g>\n<!-- 140306070753936* -->\n<g id=\"node8\" class=\"node\">\n<title>140306070753936*</title>\n<ellipse fill=\"none\" stroke=\"#000000\" cx=\"1370\" cy=\"-154.5\" rx=\"27\" ry=\"18\"/>\n<text text-anchor=\"middle\" x=\"1370\" y=\"-150.8\" font-family=\"Times,serif\" font-size=\"14.00\" fill=\"#000000\">*</text>\n</g>\n<!-- 140306070753936*&#45;&gt;140306070753936 -->\n<g id=\"edge4\" class=\"edge\">\n<title>140306070753936*&#45;&gt;140306070753936</title>\n<path fill=\"none\" stroke=\"#000000\" d=\"M1397.3331,-154.5C1404.8317,-154.5 1413.4389,-154.5 1422.5849,-154.5\"/>\n<polygon fill=\"#000000\" stroke=\"#000000\" points=\"1422.6939,-158.0001 1432.6939,-154.5 1422.6939,-151.0001 1422.6939,-158.0001\"/>\n</g>\n<!-- 140306070774480 -->\n<g id=\"node9\" class=\"node\">\n<title>140306070774480</title>\n<polygon fill=\"none\" stroke=\"#000000\" points=\"2535,-112.5 2535,-148.5 2727,-148.5 2727,-112.5 2535,-112.5\"/>\n<text text-anchor=\"middle\" x=\"2545\" y=\"-126.8\" font-family=\"Times,serif\" font-size=\"14.00\" fill=\"#000000\"> </text>\n<polyline fill=\"none\" stroke=\"#000000\" points=\"2555,-112.5 2555,-148.5 \"/>\n<text text-anchor=\"middle\" x=\"2597.5\" y=\"-126.8\" font-family=\"Times,serif\" font-size=\"14.00\" fill=\"#000000\">data 0.1464</text>\n<polyline fill=\"none\" stroke=\"#000000\" points=\"2640,-112.5 2640,-148.5 \"/>\n<text text-anchor=\"middle\" x=\"2683.5\" y=\"-126.8\" font-family=\"Times,serif\" font-size=\"14.00\" fill=\"#000000\">grad 4.8284</text>\n</g>\n<!-- 140306070774480&#45;&gt;140306070774864* -->\n<g id=\"edge19\" class=\"edge\">\n<title>140306070774480&#45;&gt;140306070774864*</title>\n<path fill=\"none\" stroke=\"#000000\" d=\"M2727.159,-144.4098C2736.3446,-145.7385 2745.2195,-147.0223 2753.263,-148.1858\"/>\n<polygon fill=\"#000000\" stroke=\"#000000\" points=\"2752.9161,-151.672 2763.3142,-149.6398 2753.9183,-144.7441 2752.9161,-151.672\"/>\n</g>\n<!-- 140306070774480**&#45;1&#45;&gt;140306070774480 -->\n<g id=\"edge5\" class=\"edge\">\n<title>140306070774480**&#45;1&#45;&gt;140306070774480</title>\n<path fill=\"none\" stroke=\"#000000\" d=\"M2431.8764,-127.0066C2455.5427,-127.4218 2490.5807,-128.0365 2524.6954,-128.635\"/>\n<polygon fill=\"#000000\" stroke=\"#000000\" points=\"2524.6994,-132.1355 2534.7593,-128.8116 2524.8222,-125.1366 2524.6994,-132.1355\"/>\n</g>\n<!-- 140306070755024 -->\n<g id=\"node11\" class=\"node\">\n<title>140306070755024</title>\n<polygon fill=\"none\" stroke=\"#000000\" points=\"1753.5,-136.5 1753.5,-172.5 1945.5,-172.5 1945.5,-136.5 1753.5,-136.5\"/>\n<text text-anchor=\"middle\" x=\"1763.5\" y=\"-150.8\" font-family=\"Times,serif\" font-size=\"14.00\" fill=\"#000000\"> </text>\n<polyline fill=\"none\" stroke=\"#000000\" points=\"1773.5,-136.5 1773.5,-172.5 \"/>\n<text text-anchor=\"middle\" x=\"1816\" y=\"-150.8\" font-family=\"Times,serif\" font-size=\"14.00\" fill=\"#000000\">data 5.8284</text>\n<polyline fill=\"none\" stroke=\"#000000\" points=\"1858.5,-136.5 1858.5,-172.5 \"/>\n<text text-anchor=\"middle\" x=\"1902\" y=\"-150.8\" font-family=\"Times,serif\" font-size=\"14.00\" fill=\"#000000\">grad 0.0429</text>\n</g>\n<!-- 140306070755024&#45;&gt;140306070774224+ -->\n<g id=\"edge25\" class=\"edge\">\n<title>140306070755024&#45;&gt;140306070774224+</title>\n<path fill=\"none\" stroke=\"#000000\" d=\"M1945.7773,-170.5959C1955.8624,-172.2819 1965.6117,-173.9119 1974.3636,-175.375\"/>\n<polygon fill=\"#000000\" stroke=\"#000000\" points=\"1974.0594,-178.8727 1984.4997,-177.0696 1975.2137,-171.9685 1974.0594,-178.8727\"/>\n</g>\n<!-- 140306070755024&#45;&gt;140306070773904+ -->\n<g id=\"edge26\" class=\"edge\">\n<title>140306070755024&#45;&gt;140306070773904+</title>\n<path fill=\"none\" stroke=\"#000000\" d=\"M1945.7773,-137.808C1956.0703,-136.0234 1966.0136,-134.2995 1974.9036,-132.7582\"/>\n<polygon fill=\"#000000\" stroke=\"#000000\" points=\"1975.5587,-136.1969 1984.8137,-131.04 1974.3628,-129.2998 1975.5587,-136.1969\"/>\n</g>\n<!-- 140306070755024exp&#45;&gt;140306070755024 -->\n<g id=\"edge6\" class=\"edge\">\n<title>140306070755024exp&#45;&gt;140306070755024</title>\n<path fill=\"none\" stroke=\"#000000\" d=\"M1715.0315,-154.5C1723.3333,-154.5 1733.0215,-154.5 1743.3247,-154.5\"/>\n<polygon fill=\"#000000\" stroke=\"#000000\" points=\"1743.3664,-158.0001 1753.3663,-154.5 1743.3663,-151.0001 1743.3664,-158.0001\"/>\n</g>\n<!-- 140306070753488 -->\n<g id=\"node13\" class=\"node\">\n<title>140306070753488</title>\n<polygon fill=\"none\" stroke=\"#000000\" points=\"2,-55.5 2,-91.5 209,-91.5 209,-55.5 2,-55.5\"/>\n<text text-anchor=\"middle\" x=\"19.5\" y=\"-69.8\" font-family=\"Times,serif\" font-size=\"14.00\" fill=\"#000000\">w2</text>\n<polyline fill=\"none\" stroke=\"#000000\" points=\"37,-55.5 37,-91.5 \"/>\n<text text-anchor=\"middle\" x=\"79.5\" y=\"-69.8\" font-family=\"Times,serif\" font-size=\"14.00\" fill=\"#000000\">data 1.0000</text>\n<polyline fill=\"none\" stroke=\"#000000\" points=\"122,-55.5 122,-91.5 \"/>\n<text text-anchor=\"middle\" x=\"165.5\" y=\"-69.8\" font-family=\"Times,serif\" font-size=\"14.00\" fill=\"#000000\">grad 0.0000</text>\n</g>\n<!-- 140306070753744* -->\n<g id=\"node27\" class=\"node\">\n<title>140306070753744*</title>\n<ellipse fill=\"none\" stroke=\"#000000\" cx=\"274\" cy=\"-73.5\" rx=\"27\" ry=\"18\"/>\n<text text-anchor=\"middle\" x=\"274\" y=\"-69.8\" font-family=\"Times,serif\" font-size=\"14.00\" fill=\"#000000\">*</text>\n</g>\n<!-- 140306070753488&#45;&gt;140306070753744* -->\n<g id=\"edge24\" class=\"edge\">\n<title>140306070753488&#45;&gt;140306070753744*</title>\n<path fill=\"none\" stroke=\"#000000\" d=\"M209.3354,-73.5C219.0497,-73.5 228.3963,-73.5 236.8187,-73.5\"/>\n<polygon fill=\"#000000\" stroke=\"#000000\" points=\"236.951,-77.0001 246.9509,-73.5 236.9509,-70.0001 236.951,-77.0001\"/>\n</g>\n<!-- 140306070755536 -->\n<g id=\"node14\" class=\"node\">\n<title>140306070755536</title>\n<polygon fill=\"none\" stroke=\"#000000\" points=\"1113,-164.5 1113,-200.5 1305,-200.5 1305,-164.5 1113,-164.5\"/>\n<text text-anchor=\"middle\" x=\"1123\" y=\"-178.8\" font-family=\"Times,serif\" font-size=\"14.00\" fill=\"#000000\"> </text>\n<polyline fill=\"none\" stroke=\"#000000\" points=\"1133,-164.5 1133,-200.5 \"/>\n<text text-anchor=\"middle\" x=\"1175.5\" y=\"-178.8\" font-family=\"Times,serif\" font-size=\"14.00\" fill=\"#000000\">data 2.0000</text>\n<polyline fill=\"none\" stroke=\"#000000\" points=\"1218,-164.5 1218,-200.5 \"/>\n<text text-anchor=\"middle\" x=\"1261.5\" y=\"-178.8\" font-family=\"Times,serif\" font-size=\"14.00\" fill=\"#000000\">grad 0.2203</text>\n</g>\n<!-- 140306070755536&#45;&gt;140306070753936* -->\n<g id=\"edge28\" class=\"edge\">\n<title>140306070755536&#45;&gt;140306070753936*</title>\n<path fill=\"none\" stroke=\"#000000\" d=\"M1305.4428,-165.7273C1315.4412,-163.9885 1325.0978,-162.3091 1333.7618,-160.8023\"/>\n<polygon fill=\"#000000\" stroke=\"#000000\" points=\"1334.5415,-164.2193 1343.7939,-159.0576 1333.342,-157.3228 1334.5415,-164.2193\"/>\n</g>\n<!-- 140306070774032 -->\n<g id=\"node15\" class=\"node\">\n<title>140306070774032</title>\n<polygon fill=\"none\" stroke=\"#000000\" points=\"1751,-81.5 1751,-117.5 1948,-117.5 1948,-81.5 1751,-81.5\"/>\n<text text-anchor=\"middle\" x=\"1761\" y=\"-95.8\" font-family=\"Times,serif\" font-size=\"14.00\" fill=\"#000000\"> </text>\n<polyline fill=\"none\" stroke=\"#000000\" points=\"1771,-81.5 1771,-117.5 \"/>\n<text text-anchor=\"middle\" x=\"1813.5\" y=\"-95.8\" font-family=\"Times,serif\" font-size=\"14.00\" fill=\"#000000\">data 1.0000</text>\n<polyline fill=\"none\" stroke=\"#000000\" points=\"1856,-81.5 1856,-117.5 \"/>\n<text text-anchor=\"middle\" x=\"1902\" y=\"-95.8\" font-family=\"Times,serif\" font-size=\"14.00\" fill=\"#000000\">grad &#45;0.1036</text>\n</g>\n<!-- 140306070774032&#45;&gt;140306070773904+ -->\n<g id=\"edge15\" class=\"edge\">\n<title>140306070774032&#45;&gt;140306070773904+</title>\n<path fill=\"none\" stroke=\"#000000\" d=\"M1948.0974,-115.9838C1957.4127,-117.5411 1966.3943,-119.0427 1974.5123,-120.3999\"/>\n<polygon fill=\"#000000\" stroke=\"#000000\" points=\"1974.2018,-123.8965 1984.6421,-122.0934 1975.3562,-116.9923 1974.2018,-123.8965\"/>\n</g>\n<!-- 140306070754064 -->\n<g id=\"node16\" class=\"node\">\n<title>140306070754064</title>\n<polygon fill=\"none\" stroke=\"#000000\" points=\"337,-110.5 337,-146.5 570,-146.5 570,-110.5 337,-110.5\"/>\n<text text-anchor=\"middle\" x=\"365.5\" y=\"-124.8\" font-family=\"Times,serif\" font-size=\"14.00\" fill=\"#000000\">x1*w1</text>\n<polyline fill=\"none\" stroke=\"#000000\" points=\"394,-110.5 394,-146.5 \"/>\n<text text-anchor=\"middle\" x=\"438.5\" y=\"-124.8\" font-family=\"Times,serif\" font-size=\"14.00\" fill=\"#000000\">data &#45;6.0000</text>\n<polyline fill=\"none\" stroke=\"#000000\" points=\"483,-110.5 483,-146.5 \"/>\n<text text-anchor=\"middle\" x=\"526.5\" y=\"-124.8\" font-family=\"Times,serif\" font-size=\"14.00\" fill=\"#000000\">grad 0.5000</text>\n</g>\n<!-- 140306070755152+ -->\n<g id=\"node23\" class=\"node\">\n<title>140306070755152+</title>\n<ellipse fill=\"none\" stroke=\"#000000\" cx=\"633\" cy=\"-100.5\" rx=\"27\" ry=\"18\"/>\n<text text-anchor=\"middle\" x=\"633\" y=\"-96.8\" font-family=\"Times,serif\" font-size=\"14.00\" fill=\"#000000\">+</text>\n</g>\n<!-- 140306070754064&#45;&gt;140306070755152+ -->\n<g id=\"edge23\" class=\"edge\">\n<title>140306070754064&#45;&gt;140306070755152+</title>\n<path fill=\"none\" stroke=\"#000000\" d=\"M568.9566,-110.4901C578.7184,-108.9673 588.037,-107.5137 596.3947,-106.21\"/>\n<polygon fill=\"#000000\" stroke=\"#000000\" points=\"597.0871,-109.6444 606.4281,-104.6449 596.0082,-102.7281 597.0871,-109.6444\"/>\n</g>\n<!-- 140306070754064* -->\n<g id=\"node17\" class=\"node\">\n<title>140306070754064*</title>\n<ellipse fill=\"none\" stroke=\"#000000\" cx=\"274\" cy=\"-128.5\" rx=\"27\" ry=\"18\"/>\n<text text-anchor=\"middle\" x=\"274\" y=\"-124.8\" font-family=\"Times,serif\" font-size=\"14.00\" fill=\"#000000\">*</text>\n</g>\n<!-- 140306070754064*&#45;&gt;140306070754064 -->\n<g id=\"edge7\" class=\"edge\">\n<title>140306070754064*&#45;&gt;140306070754064</title>\n<path fill=\"none\" stroke=\"#000000\" d=\"M301.2622,-128.5C308.8324,-128.5 317.5801,-128.5 326.9781,-128.5\"/>\n<polygon fill=\"#000000\" stroke=\"#000000\" points=\"326.9853,-132.0001 336.9853,-128.5 326.9852,-125.0001 326.9853,-132.0001\"/>\n</g>\n<!-- 140306070774160 -->\n<g id=\"node18\" class=\"node\">\n<title>140306070774160</title>\n<polygon fill=\"none\" stroke=\"#000000\" points=\"1751.5,-191.5 1751.5,-227.5 1947.5,-227.5 1947.5,-191.5 1751.5,-191.5\"/>\n<text text-anchor=\"middle\" x=\"1761.5\" y=\"-205.8\" font-family=\"Times,serif\" font-size=\"14.00\" fill=\"#000000\"> </text>\n<polyline fill=\"none\" stroke=\"#000000\" points=\"1771.5,-191.5 1771.5,-227.5 \"/>\n<text text-anchor=\"middle\" x=\"1816\" y=\"-205.8\" font-family=\"Times,serif\" font-size=\"14.00\" fill=\"#000000\">data &#45;1.0000</text>\n<polyline fill=\"none\" stroke=\"#000000\" points=\"1860.5,-191.5 1860.5,-227.5 \"/>\n<text text-anchor=\"middle\" x=\"1904\" y=\"-205.8\" font-family=\"Times,serif\" font-size=\"14.00\" fill=\"#000000\">grad 0.1464</text>\n</g>\n<!-- 140306070774160&#45;&gt;140306070774224+ -->\n<g id=\"edge18\" class=\"edge\">\n<title>140306070774160&#45;&gt;140306070774224+</title>\n<path fill=\"none\" stroke=\"#000000\" d=\"M1947.6344,-192.486C1957.2015,-190.8273 1966.4268,-189.2279 1974.738,-187.7869\"/>\n<polygon fill=\"#000000\" stroke=\"#000000\" points=\"1975.4785,-191.2108 1984.7336,-186.0539 1974.2827,-184.3137 1975.4785,-191.2108\"/>\n</g>\n<!-- 140306070757200 -->\n<g id=\"node19\" class=\"node\">\n<title>140306070757200</title>\n<polygon fill=\"none\" stroke=\"#000000\" points=\"1111,-109.5 1111,-145.5 1307,-145.5 1307,-109.5 1111,-109.5\"/>\n<text text-anchor=\"middle\" x=\"1123\" y=\"-123.8\" font-family=\"Times,serif\" font-size=\"14.00\" fill=\"#000000\">n</text>\n<polyline fill=\"none\" stroke=\"#000000\" points=\"1135,-109.5 1135,-145.5 \"/>\n<text text-anchor=\"middle\" x=\"1177.5\" y=\"-123.8\" font-family=\"Times,serif\" font-size=\"14.00\" fill=\"#000000\">data 0.8814</text>\n<polyline fill=\"none\" stroke=\"#000000\" points=\"1220,-109.5 1220,-145.5 \"/>\n<text text-anchor=\"middle\" x=\"1263.5\" y=\"-123.8\" font-family=\"Times,serif\" font-size=\"14.00\" fill=\"#000000\">grad 0.5000</text>\n</g>\n<!-- 140306070757200&#45;&gt;140306070753936* -->\n<g id=\"edge22\" class=\"edge\">\n<title>140306070757200&#45;&gt;140306070753936*</title>\n<path fill=\"none\" stroke=\"#000000\" d=\"M1307.2922,-143.9838C1316.5786,-145.5411 1325.5324,-147.0427 1333.6253,-148.3999\"/>\n<polygon fill=\"#000000\" stroke=\"#000000\" points=\"1333.2825,-151.8912 1343.7237,-150.0934 1334.4403,-144.9876 1333.2825,-151.8912\"/>\n</g>\n<!-- 140306070757200+ -->\n<g id=\"node20\" class=\"node\">\n<title>140306070757200+</title>\n<ellipse fill=\"none\" stroke=\"#000000\" cx=\"1048\" cy=\"-127.5\" rx=\"27\" ry=\"18\"/>\n<text text-anchor=\"middle\" x=\"1048\" y=\"-123.8\" font-family=\"Times,serif\" font-size=\"14.00\" fill=\"#000000\">+</text>\n</g>\n<!-- 140306070757200+&#45;&gt;140306070757200 -->\n<g id=\"edge8\" class=\"edge\">\n<title>140306070757200+&#45;&gt;140306070757200</title>\n<path fill=\"none\" stroke=\"#000000\" d=\"M1075.3115,-127.5C1082.8223,-127.5 1091.4512,-127.5 1100.6318,-127.5\"/>\n<polygon fill=\"#000000\" stroke=\"#000000\" points=\"1100.7835,-131.0001 1110.7835,-127.5 1100.7835,-124.0001 1100.7835,-131.0001\"/>\n</g>\n<!-- 140306070754640 -->\n<g id=\"node21\" class=\"node\">\n<title>140306070754640</title>\n<polygon fill=\"none\" stroke=\"#000000\" points=\"742.5,-137.5 742.5,-173.5 938.5,-173.5 938.5,-137.5 742.5,-137.5\"/>\n<text text-anchor=\"middle\" x=\"754.5\" y=\"-151.8\" font-family=\"Times,serif\" font-size=\"14.00\" fill=\"#000000\">b</text>\n<polyline fill=\"none\" stroke=\"#000000\" points=\"766.5,-137.5 766.5,-173.5 \"/>\n<text text-anchor=\"middle\" x=\"809\" y=\"-151.8\" font-family=\"Times,serif\" font-size=\"14.00\" fill=\"#000000\">data 6.8814</text>\n<polyline fill=\"none\" stroke=\"#000000\" points=\"851.5,-137.5 851.5,-173.5 \"/>\n<text text-anchor=\"middle\" x=\"895\" y=\"-151.8\" font-family=\"Times,serif\" font-size=\"14.00\" fill=\"#000000\">grad 0.5000</text>\n</g>\n<!-- 140306070754640&#45;&gt;140306070757200+ -->\n<g id=\"edge16\" class=\"edge\">\n<title>140306070754640&#45;&gt;140306070757200+</title>\n<path fill=\"none\" stroke=\"#000000\" d=\"M938.7811,-142.238C964.6496,-138.7473 990.9727,-135.1952 1011.2938,-132.4531\"/>\n<polygon fill=\"#000000\" stroke=\"#000000\" points=\"1011.897,-135.9035 1021.3391,-131.0976 1010.9609,-128.9664 1011.897,-135.9035\"/>\n</g>\n<!-- 140306070755152 -->\n<g id=\"node22\" class=\"node\">\n<title>140306070755152</title>\n<polygon fill=\"none\" stroke=\"#000000\" points=\"696,-82.5 696,-118.5 985,-118.5 985,-82.5 696,-82.5\"/>\n<text text-anchor=\"middle\" x=\"752.5\" y=\"-96.8\" font-family=\"Times,serif\" font-size=\"14.00\" fill=\"#000000\">x1*w1 + x2*w2</text>\n<polyline fill=\"none\" stroke=\"#000000\" points=\"809,-82.5 809,-118.5 \"/>\n<text text-anchor=\"middle\" x=\"853.5\" y=\"-96.8\" font-family=\"Times,serif\" font-size=\"14.00\" fill=\"#000000\">data &#45;6.0000</text>\n<polyline fill=\"none\" stroke=\"#000000\" points=\"898,-82.5 898,-118.5 \"/>\n<text text-anchor=\"middle\" x=\"941.5\" y=\"-96.8\" font-family=\"Times,serif\" font-size=\"14.00\" fill=\"#000000\">grad 0.5000</text>\n</g>\n<!-- 140306070755152&#45;&gt;140306070757200+ -->\n<g id=\"edge17\" class=\"edge\">\n<title>140306070755152&#45;&gt;140306070757200+</title>\n<path fill=\"none\" stroke=\"#000000\" d=\"M978.9055,-118.5094C990.5887,-120.0296 1001.6094,-121.4636 1011.2737,-122.7212\"/>\n<polygon fill=\"#000000\" stroke=\"#000000\" points=\"1010.8271,-126.1925 1021.1952,-124.0121 1011.7304,-119.251 1010.8271,-126.1925\"/>\n</g>\n<!-- 140306070755152+&#45;&gt;140306070755152 -->\n<g id=\"edge9\" class=\"edge\">\n<title>140306070755152+&#45;&gt;140306070755152</title>\n<path fill=\"none\" stroke=\"#000000\" d=\"M660.127,-100.5C667.628,-100.5 676.3363,-100.5 685.7965,-100.5\"/>\n<polygon fill=\"#000000\" stroke=\"#000000\" points=\"685.9081,-104.0001 695.908,-100.5 685.908,-97.0001 685.9081,-104.0001\"/>\n</g>\n<!-- 140306070755664 -->\n<g id=\"node24\" class=\"node\">\n<title>140306070755664</title>\n<polygon fill=\"none\" stroke=\"#000000\" points=\"1,-165.5 1,-201.5 210,-201.5 210,-165.5 1,-165.5\"/>\n<text text-anchor=\"middle\" x=\"17\" y=\"-179.8\" font-family=\"Times,serif\" font-size=\"14.00\" fill=\"#000000\">x1</text>\n<polyline fill=\"none\" stroke=\"#000000\" points=\"33,-165.5 33,-201.5 \"/>\n<text text-anchor=\"middle\" x=\"75.5\" y=\"-179.8\" font-family=\"Times,serif\" font-size=\"14.00\" fill=\"#000000\">data 2.0000</text>\n<polyline fill=\"none\" stroke=\"#000000\" points=\"118,-165.5 118,-201.5 \"/>\n<text text-anchor=\"middle\" x=\"164\" y=\"-179.8\" font-family=\"Times,serif\" font-size=\"14.00\" fill=\"#000000\">grad &#45;1.5000</text>\n</g>\n<!-- 140306070755664&#45;&gt;140306070754064* -->\n<g id=\"edge20\" class=\"edge\">\n<title>140306070755664&#45;&gt;140306070754064*</title>\n<path fill=\"none\" stroke=\"#000000\" d=\"M182.3017,-165.4558C192.0361,-162.698 201.8026,-159.6955 211,-156.5 221.6243,-152.8088 232.9373,-148.0548 243.0021,-143.5155\"/>\n<polygon fill=\"#000000\" stroke=\"#000000\" points=\"244.5909,-146.6371 252.2061,-139.271 241.6594,-140.2805 244.5909,-146.6371\"/>\n</g>\n<!-- 140306070753680 -->\n<g id=\"node25\" class=\"node\">\n<title>140306070753680</title>\n<polygon fill=\"none\" stroke=\"#000000\" points=\"3.5,-.5 3.5,-36.5 207.5,-36.5 207.5,-.5 3.5,-.5\"/>\n<text text-anchor=\"middle\" x=\"19.5\" y=\"-14.8\" font-family=\"Times,serif\" font-size=\"14.00\" fill=\"#000000\">x2</text>\n<polyline fill=\"none\" stroke=\"#000000\" points=\"35.5,-.5 35.5,-36.5 \"/>\n<text text-anchor=\"middle\" x=\"78\" y=\"-14.8\" font-family=\"Times,serif\" font-size=\"14.00\" fill=\"#000000\">data 0.0000</text>\n<polyline fill=\"none\" stroke=\"#000000\" points=\"120.5,-.5 120.5,-36.5 \"/>\n<text text-anchor=\"middle\" x=\"164\" y=\"-14.8\" font-family=\"Times,serif\" font-size=\"14.00\" fill=\"#000000\">grad 0.5000</text>\n</g>\n<!-- 140306070753680&#45;&gt;140306070753744* -->\n<g id=\"edge14\" class=\"edge\">\n<title>140306070753680&#45;&gt;140306070753744*</title>\n<path fill=\"none\" stroke=\"#000000\" d=\"M182.3017,-36.5442C192.0361,-39.302 201.8026,-42.3045 211,-45.5 221.6243,-49.1912 232.9373,-53.9452 243.0021,-58.4845\"/>\n<polygon fill=\"#000000\" stroke=\"#000000\" points=\"241.6594,-61.7195 252.2061,-62.729 244.5909,-55.3629 241.6594,-61.7195\"/>\n</g>\n<!-- 140306070753744 -->\n<g id=\"node26\" class=\"node\">\n<title>140306070753744</title>\n<polygon fill=\"none\" stroke=\"#000000\" points=\"339,-55.5 339,-91.5 568,-91.5 568,-55.5 339,-55.5\"/>\n<text text-anchor=\"middle\" x=\"367.5\" y=\"-69.8\" font-family=\"Times,serif\" font-size=\"14.00\" fill=\"#000000\">x2*w2</text>\n<polyline fill=\"none\" stroke=\"#000000\" points=\"396,-55.5 396,-91.5 \"/>\n<text text-anchor=\"middle\" x=\"438.5\" y=\"-69.8\" font-family=\"Times,serif\" font-size=\"14.00\" fill=\"#000000\">data 0.0000</text>\n<polyline fill=\"none\" stroke=\"#000000\" points=\"481,-55.5 481,-91.5 \"/>\n<text text-anchor=\"middle\" x=\"524.5\" y=\"-69.8\" font-family=\"Times,serif\" font-size=\"14.00\" fill=\"#000000\">grad 0.5000</text>\n</g>\n<!-- 140306070753744&#45;&gt;140306070755152+ -->\n<g id=\"edge21\" class=\"edge\">\n<title>140306070753744&#45;&gt;140306070755152+</title>\n<path fill=\"none\" stroke=\"#000000\" d=\"M568.1964,-90.7524C578.2591,-92.266 587.8673,-93.7112 596.4577,-95.0034\"/>\n<polygon fill=\"#000000\" stroke=\"#000000\" points=\"595.984,-98.4714 606.3934,-96.4979 597.0253,-91.5493 595.984,-98.4714\"/>\n</g>\n<!-- 140306070753744*&#45;&gt;140306070753744 -->\n<g id=\"edge10\" class=\"edge\">\n<title>140306070753744*&#45;&gt;140306070753744</title>\n<path fill=\"none\" stroke=\"#000000\" d=\"M301.2622,-73.5C309.2798,-73.5 318.6183,-73.5 328.6514,-73.5\"/>\n<polygon fill=\"#000000\" stroke=\"#000000\" points=\"328.8929,-77.0001 338.8928,-73.5 328.8928,-70.0001 328.8929,-77.0001\"/>\n</g>\n<!-- 140306070754256 -->\n<g id=\"node28\" class=\"node\">\n<title>140306070754256</title>\n<polygon fill=\"none\" stroke=\"#000000\" points=\"0,-110.5 0,-146.5 211,-146.5 211,-110.5 0,-110.5\"/>\n<text text-anchor=\"middle\" x=\"17.5\" y=\"-124.8\" font-family=\"Times,serif\" font-size=\"14.00\" fill=\"#000000\">w1</text>\n<polyline fill=\"none\" stroke=\"#000000\" points=\"35,-110.5 35,-146.5 \"/>\n<text text-anchor=\"middle\" x=\"79.5\" y=\"-124.8\" font-family=\"Times,serif\" font-size=\"14.00\" fill=\"#000000\">data &#45;3.0000</text>\n<polyline fill=\"none\" stroke=\"#000000\" points=\"124,-110.5 124,-146.5 \"/>\n<text text-anchor=\"middle\" x=\"167.5\" y=\"-124.8\" font-family=\"Times,serif\" font-size=\"14.00\" fill=\"#000000\">grad 1.0000</text>\n</g>\n<!-- 140306070754256&#45;&gt;140306070754064* -->\n<g id=\"edge13\" class=\"edge\">\n<title>140306070754256&#45;&gt;140306070754064*</title>\n<path fill=\"none\" stroke=\"#000000\" d=\"M211.2568,-128.5C220.2576,-128.5 228.9074,-128.5 236.7567,-128.5\"/>\n<polygon fill=\"#000000\" stroke=\"#000000\" points=\"236.9217,-132.0001 246.9217,-128.5 236.9217,-125.0001 236.9217,-132.0001\"/>\n</g>\n</g>\n</svg>\n",
            "text/plain": [
              "<graphviz.dot.Digraph at 0x7f9b8d8863d0>"
            ]
          },
          "execution_count": 14,
          "metadata": {},
          "output_type": "execute_result"
        }
      ],
      "source": [
        "draw_dot(o)"
      ]
    }
  ],
  "metadata": {
    "colab": {
      "collapsed_sections": [
        "ghQ9I4eqCWX6",
        "kS3fZYNfCwo2",
        "DtepHSsoGcyq",
        "kd1TYOIpoEl-",
        "Ltfh5nVF7Gd6"
      ],
      "provenance": []
    },
    "kernelspec": {
      "display_name": "Python 3",
      "name": "python3"
    },
    "language_info": {
      "name": "python"
    }
  },
  "nbformat": 4,
  "nbformat_minor": 0
}
